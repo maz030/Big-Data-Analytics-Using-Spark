{
 "cells": [
  {
   "cell_type": "markdown",
   "metadata": {
    "deletable": false,
    "editable": false,
    "nbgrader": {
     "checksum": "9bd6de8ce992fc72a25da0e3f40c1226",
     "grade": false,
     "grade_id": "1",
     "locked": true,
     "schema_version": 1,
     "solution": false
    },
    "run_control": {
     "frozen": false,
     "read_only": false
    }
   },
   "source": [
    "### <span style=\"color:red\">IMPORTANT: Only modify cells which have the following comment:</span>\n",
    "```python\n",
    "# Modify this cell\n",
    "```\n",
    "##### <span style=\"color:red\">Do not add any new cells when you submit the homework. Only use the already provided python packages.</span>"
   ]
  },
  {
   "cell_type": "markdown",
   "metadata": {
    "deletable": false,
    "editable": false,
    "nbgrader": {
     "checksum": "ab0e5e5018743f75d0d59bd0e18ddc43",
     "grade": false,
     "grade_id": "2",
     "locked": true,
     "schema_version": 1,
     "solution": false
    },
    "run_control": {
     "frozen": false,
     "read_only": false
    },
    "slideshow": {
     "slide_type": "slide"
    }
   },
   "source": [
    "## Analysis of stock prices using PCA / Notebook 1\n",
    "\n",
    "In this take-home final you are to analyze the daily changes in stock prices using PCA and to mesure the dimension of stock sequences.\n",
    "\n",
    "We Start by downloading data and pre-processing it to make it ready for analysis using Spark."
   ]
  },
  {
   "cell_type": "code",
   "execution_count": 1,
   "metadata": {
    "collapsed": false,
    "deletable": false,
    "editable": false,
    "nbgrader": {
     "checksum": "4dd5597eed487ae4dae4a56581e650c1",
     "grade": false,
     "grade_id": "3",
     "locked": true,
     "schema_version": 1,
     "solution": false
    },
    "run_control": {
     "frozen": false,
     "read_only": false
    },
    "slideshow": {
     "slide_type": "skip"
    }
   },
   "outputs": [],
   "source": [
    "import sys,os\n",
    "import numpy as np\n",
    "from numpy.linalg import norm\n",
    "import matplotlib.pyplot as plt\n",
    "%matplotlib inline\n",
    "\n",
    "from time import time\n",
    "import math\n",
    "import pandas as pd\n",
    "from glob import glob\n",
    "import pickle\n"
   ]
  },
  {
   "cell_type": "markdown",
   "metadata": {
    "deletable": false,
    "editable": false,
    "nbgrader": {
     "checksum": "a8dd320b1af212ca56df97b2db554da6",
     "grade": false,
     "grade_id": "4",
     "locked": true,
     "schema_version": 1,
     "solution": false
    },
    "run_control": {
     "frozen": false,
     "read_only": false
    }
   },
   "source": [
    "### Stock Info\n",
    "The Pickle file `Tickers.pkl` contains information about the stocks in the SP500.\n",
    "\n",
    "* `TickerInfo` - a pandas table that stores the name, sector, and sector ID for 505 stocks\n",
    "* `Tickers` - A list of the stocks that we are going to analyze (each student should eliminate a few of these stocks before doing their analysis)\n"
   ]
  },
  {
   "cell_type": "code",
   "execution_count": 2,
   "metadata": {
    "collapsed": false,
    "deletable": false,
    "editable": false,
    "nbgrader": {
     "checksum": "a88535ac8827b8146dd6ab2e894fce9e",
     "grade": false,
     "grade_id": "5",
     "locked": true,
     "schema_version": 1,
     "solution": false
    },
    "run_control": {
     "frozen": false,
     "read_only": false
    }
   },
   "outputs": [],
   "source": [
    "D=pickle.load(open('Tickers.pkl','rb'))\n",
    "TickerInfo=D['TickerInfo']\n",
    "Tickers=D['Tickers']\n",
    "Sectors={'Consumer Discretionary':'CD',\n",
    " 'Consumer Staples':'CS',\n",
    " 'Energy':'EN',\n",
    " 'Financials':'FIN',\n",
    " 'Health Care':'HC',\n",
    " 'Industrials':'INDS',\n",
    " 'Information Technology':'IT',\n",
    " 'Materials':'MAT',\n",
    " 'Real Estate':'RE',\n",
    " 'Telecommunication Services':'TS',\n",
    " 'Utilities':'UTIL'}"
   ]
  },
  {
   "cell_type": "code",
   "execution_count": 3,
   "metadata": {
    "collapsed": false,
    "deletable": false,
    "editable": false,
    "nbgrader": {
     "checksum": "46f6655230974a575d3134dfef1c1cb7",
     "grade": false,
     "grade_id": "6",
     "locked": true,
     "schema_version": 1,
     "solution": false
    },
    "run_control": {
     "frozen": false,
     "read_only": false
    },
    "scrolled": true
   },
   "outputs": [
    {
     "data": {
      "text/html": [
       "<div>\n",
       "<style>\n",
       "    .dataframe thead tr:only-child th {\n",
       "        text-align: right;\n",
       "    }\n",
       "\n",
       "    .dataframe thead th {\n",
       "        text-align: left;\n",
       "    }\n",
       "\n",
       "    .dataframe tbody tr th {\n",
       "        vertical-align: top;\n",
       "    }\n",
       "</style>\n",
       "<table border=\"1\" class=\"dataframe\">\n",
       "  <thead>\n",
       "    <tr style=\"text-align: right;\">\n",
       "      <th></th>\n",
       "      <th>Ticker</th>\n",
       "      <th>Name</th>\n",
       "      <th>Sector</th>\n",
       "      <th>SECTOR_ID</th>\n",
       "    </tr>\n",
       "  </thead>\n",
       "  <tbody>\n",
       "    <tr>\n",
       "      <th>0</th>\n",
       "      <td>MMM</td>\n",
       "      <td>3M|3M Company</td>\n",
       "      <td>Industrials</td>\n",
       "      <td>INDS</td>\n",
       "    </tr>\n",
       "    <tr>\n",
       "      <th>1</th>\n",
       "      <td>ABT</td>\n",
       "      <td>Abbott Laboratories</td>\n",
       "      <td>Health Care</td>\n",
       "      <td>HC</td>\n",
       "    </tr>\n",
       "    <tr>\n",
       "      <th>2</th>\n",
       "      <td>ABBV</td>\n",
       "      <td>AbbVie Inc.</td>\n",
       "      <td>Health Care</td>\n",
       "      <td>HC</td>\n",
       "    </tr>\n",
       "    <tr>\n",
       "      <th>3</th>\n",
       "      <td>ACN</td>\n",
       "      <td>Accenture plc</td>\n",
       "      <td>Information Technology</td>\n",
       "      <td>IT</td>\n",
       "    </tr>\n",
       "    <tr>\n",
       "      <th>4</th>\n",
       "      <td>ATVI</td>\n",
       "      <td>Activision Blizzard</td>\n",
       "      <td>Information Technology</td>\n",
       "      <td>IT</td>\n",
       "    </tr>\n",
       "  </tbody>\n",
       "</table>\n",
       "</div>"
      ],
      "text/plain": [
       "  Ticker                 Name                  Sector SECTOR_ID\n",
       "0    MMM        3M|3M Company             Industrials      INDS\n",
       "1    ABT  Abbott Laboratories             Health Care        HC\n",
       "2   ABBV          AbbVie Inc.             Health Care        HC\n",
       "3    ACN        Accenture plc  Information Technology        IT\n",
       "4   ATVI  Activision Blizzard  Information Technology        IT"
      ]
     },
     "execution_count": 3,
     "metadata": {},
     "output_type": "execute_result"
    }
   ],
   "source": [
    "TickerInfo.head()"
   ]
  },
  {
   "cell_type": "markdown",
   "metadata": {
    "deletable": false,
    "editable": false,
    "nbgrader": {
     "checksum": "165c64a797f2bab08d27f1cd6bd4cd3b",
     "grade": false,
     "grade_id": "7",
     "locked": true,
     "schema_version": 1,
     "solution": false
    },
    "run_control": {
     "frozen": false,
     "read_only": false
    }
   },
   "source": [
    "### Differences between the stocks lists\n",
    "In the following you will work with three different sets of stocks:\n",
    "\n",
    "1. The stocks listed in `TickerInfo`\n",
    "2. The stocks listed in `Tickers`\n",
    "3. The stock files that you will download from S3.\n",
    "\n",
    "* The stocks you will analyze are those in `Tickers` less the one that you were instructed to remove.\n",
    "* The Files you will download contain all of the stocks in `Tickers` plus a few stocks that are skipped because they are outliers.\n",
    "* The Stocks in `TickerInfo` include most of the stocks in `Tickers`, but there are a few missing. When we will represent each stock with its `SECTOR_ID` these stocks will be represented by their Ticker."
   ]
  },
  {
   "cell_type": "code",
   "execution_count": 4,
   "metadata": {
    "collapsed": false,
    "deletable": false,
    "editable": false,
    "nbgrader": {
     "checksum": "f812c146c4ad251d24eae7c9a1a9ea66",
     "grade": false,
     "grade_id": "8",
     "locked": true,
     "schema_version": 1,
     "solution": false
    },
    "run_control": {
     "frozen": false,
     "read_only": false
    }
   },
   "outputs": [
    {
     "data": {
      "text/plain": [
       "(481, 505)"
      ]
     },
     "execution_count": 4,
     "metadata": {},
     "output_type": "execute_result"
    }
   ],
   "source": [
    "len(Tickers),len(TickerInfo)"
   ]
  },
  {
   "cell_type": "markdown",
   "metadata": {
    "deletable": false,
    "editable": false,
    "nbgrader": {
     "checksum": "cd9db91c3c35fad6c6521bac0dad0394",
     "grade": false,
     "grade_id": "9",
     "locked": true,
     "schema_version": 1,
     "solution": false
    },
    "run_control": {
     "frozen": false,
     "read_only": false
    }
   },
   "source": [
    "### Stock and sector information\n",
    "`TickerInfo` is a pandas table containing, for each Ticker, the company name, the sector, and a sector ID. There are 11 sectors. Some, such as `Consumer Discretionary` and `Information Technology` include many stocks while others, such as `Telecommunication Services` include very few."
   ]
  },
  {
   "cell_type": "code",
   "execution_count": 5,
   "metadata": {
    "collapsed": false,
    "deletable": false,
    "editable": false,
    "nbgrader": {
     "checksum": "0c90bdefead75f3b5bdcb17b1c8c66db",
     "grade": false,
     "grade_id": "10",
     "locked": true,
     "schema_version": 1,
     "solution": false
    },
    "run_control": {
     "frozen": false,
     "read_only": false
    }
   },
   "outputs": [
    {
     "name": "stdout",
     "output_type": "stream",
     "text": [
      "Sector ID\t\tSector Name\tNo. of Stocks\n",
      "=========\t\t===========\t=============\n",
      "INDS\t                   Industrials\t66\n",
      "TS\t    Telecommunication Services\t4\n",
      "CD\t        Consumer Discretionary\t84\n",
      "UTIL\t                     Utilities\t28\n",
      "CS\t              Consumer Staples\t37\n",
      "HC\t                   Health Care\t60\n",
      "MAT\t                     Materials\t25\n",
      "IT\t        Information Technology\t70\n",
      "RE\t                   Real Estate\t31\n",
      "EN\t                        Energy\t34\n",
      "FIN\t                    Financials\t66\n"
     ]
    }
   ],
   "source": [
    "from collections import Counter\n",
    "L=Counter(TickerInfo['Sector']).items()\n",
    "print 'Sector ID\\t\\tSector Name\\tNo. of Stocks'\n",
    "print '=========\\t\\t===========\\t============='\n",
    "for l in L:\n",
    "    print '%s\\t%30s\\t%d'%(Sectors[l[0]],l[0],l[1])"
   ]
  },
  {
   "cell_type": "markdown",
   "metadata": {
    "deletable": false,
    "editable": false,
    "nbgrader": {
     "checksum": "ef5863fe4befbd0c1a73f13186693159",
     "grade": false,
     "grade_id": "11",
     "locked": true,
     "schema_version": 1,
     "solution": false
    },
    "run_control": {
     "frozen": false,
     "read_only": false
    }
   },
   "source": [
    "### Download Data\n",
    "The data is a directory with .csv files, one for each stock. This directory has been tarred and uploaded to \n",
    "S3, at:\n",
    "\n",
    "https://mas-dse-open.s3.amazonaws.com/spdata_csv.tgz\n",
    "\n",
    "**Download and untar** the file. This creates a directory called **spdata_csv**"
   ]
  },
  {
   "cell_type": "markdown",
   "metadata": {
    "deletable": false,
    "editable": false,
    "nbgrader": {
     "checksum": "9720f8743bb2304e03f1708204b0aa0f",
     "grade": false,
     "grade_id": "12",
     "locked": true,
     "schema_version": 1,
     "solution": false
    },
    "run_control": {
     "frozen": false,
     "read_only": false
    }
   },
   "source": [
    "## Read Data and create a single table\n",
    "\n",
    "Your task in this notebook is to read the stock-information `.csv` files, extract from them the column \n",
    "`Adj. Open` and combine them into a single `.csv` file containing all of the information that is relevant for later analysis.\n",
    "\n",
    "Below we suggest a particular sequence of steps, you can either follow these steps, or do this in your own way.  The end result should be a file called `SP500.csv` which stores the information described below."
   ]
  },
  {
   "cell_type": "markdown",
   "metadata": {
    "deletable": false,
    "editable": false,
    "nbgrader": {
     "checksum": "a3157ad2335ef904e13696a5217bfca6",
     "grade": false,
     "grade_id": "13",
     "locked": true,
     "schema_version": 1,
     "solution": false
    },
    "run_control": {
     "frozen": false,
     "read_only": false
    }
   },
   "source": [
    "### Convert files into pandas dataframes\n",
    "\n",
    "In this step you read all of the relevant information into a large dictionary we call `Tables`.\n",
    "\n",
    "The key to this dictionary is the stocks \"ticker\" which corresponds to the file name excluding the `.csv` extension.\n",
    "\n",
    "You should read in all of the files in the directory `spdata_csv` other than:\n",
    "\n",
    "* Files for tickers that are not in the list `Tickers`.\n",
    "* Files for tickers that were listed in the email you got for this final.\n",
    "\n",
    "In the email you got about this final, there is a list of tickers that you should omit from your analysis."
   ]
  },
  {
   "cell_type": "markdown",
   "metadata": {
    "deletable": false,
    "editable": false,
    "nbgrader": {
     "checksum": "0eb25e1d31d8fad9a5377b2f349a609c",
     "grade": false,
     "grade_id": "14",
     "locked": true,
     "schema_version": 1,
     "solution": false
    },
    "run_control": {
     "frozen": false,
     "read_only": false
    }
   },
   "source": [
    "# Task 1:\n",
    "Create a function **getTables** which returns the dictionary *Tables* as described above. \n",
    "\n",
    "######  <span style=\"color:blue\">Code:</span>\n",
    "```python\n",
    "Tables = getTables()\n",
    "print type(Tables)\n",
    "print len(Tables)\n",
    "Tables['IBM'].head()\n",
    "```\n",
    "\n",
    "######  <span style=\"color:magenta\">Output:</span>\n",
    "```python\n",
    "dict\n",
    "476\n",
    "\n",
    "```\n",
    "<p><img alt=\"\" src=\"figs/IBM.jpg\"style=\"height:180px\"  /></p>\n"
   ]
  },
  {
   "cell_type": "code",
   "execution_count": 8,
   "metadata": {
    "collapsed": false,
    "deletable": true,
    "editable": true,
    "run_control": {
     "frozen": false,
     "read_only": false
    },
    "scrolled": true
   },
   "outputs": [],
   "source": [
    "def getTables(Data_dir=\"./spdata_csv\"):\n",
    "    #Data_dir: directory path to spdata_csv , default path should be your local path to the file \n",
    "    \n",
    "    Tables={}\n",
    "    # ... write implementation\n",
    "    exclude_list = ['STT','BSX','PRGO','WMB','CMG']\n",
    "    for ticker in Tickers:\n",
    "        if ticker in exclude_list:\n",
    "            continue\n",
    "        Tables[ticker] = pd.read_csv(Data_dir + '/' + ticker + '.csv', index_col = 'Date').sort_index()\n",
    "    \n",
    "    return Tables   #<-- a dictionary as described above\n",
    "\n"
   ]
  },
  {
   "cell_type": "code",
   "execution_count": 9,
   "metadata": {
    "collapsed": false,
    "deletable": false,
    "editable": false,
    "nbgrader": {
     "checksum": "f3ceb8793991f4d5886c58921e8ab8b2",
     "grade": true,
     "grade_id": "ex1",
     "locked": true,
     "points": 1,
     "schema_version": 1,
     "solution": false
    },
    "run_control": {
     "frozen": false,
     "read_only": false
    }
   },
   "outputs": [
    {
     "name": "stdout",
     "output_type": "stream",
     "text": [
      "great job!\n"
     ]
    }
   ],
   "source": [
    "from Tester import prepare as tasks\n",
    "Tables = tasks.ex1(getTables)"
   ]
  },
  {
   "cell_type": "markdown",
   "metadata": {
    "deletable": false,
    "editable": false,
    "nbgrader": {
     "checksum": "d97876b71d84aa483b0bb436c5a2fc5e",
     "grade": false,
     "grade_id": "15",
     "locked": true,
     "schema_version": 1,
     "solution": false
    },
    "run_control": {
     "frozen": false,
     "read_only": false
    }
   },
   "source": [
    "### Computing diffs and combining into a single table\n",
    "\n",
    "The next step is to extract from each table the relevant prices, compute an additional quantity we call `diff` and create a single combined pandas dataframe.\n",
    "\n",
    "The price we ue is the **Adjusted Open Price** which is the price when the stock exchange opens in the morning. We use the **adjusted** price which eliminates technical adjustments such as stock splits.\n",
    "\n",
    "It is more meaningful to predict *changes* in prices than prices themselves. We therefor compute for each stock a `Diffs` sequence in which $d(t)=\\log \\frac{p(t+1)}{p(t)}$ where $p(t)$ is the price at time $t$ and $d(t)$ is the price diff or the price ratio.\n",
    "\n",
    "Obviously, if we have a price sequence of length $T$ then the length of the diff sequence will be $T-1$. To make the price sequence and the diff sequence have the same length we eliminate the last day price for each sequence.\n",
    "\n",
    "Your task in this step is to join the stock tables by date, compute the diff seqeunce, and create one large Pandas DataFrame where the row index is the date, and there are two columns for each ticker. For example for the ticker `IBM`, there would be two columns `IBM_P` and `IBM_D`. The first corresponds to the prices of the IBM stock $p(t)$ and the second to the price difference $d(t)$"
   ]
  },
  {
   "cell_type": "markdown",
   "metadata": {
    "deletable": false,
    "editable": false,
    "nbgrader": {
     "checksum": "c59f7bcbc03593bd5490d7cf8cbc3087",
     "grade": false,
     "grade_id": "16",
     "locked": true,
     "schema_version": 1,
     "solution": false
    },
    "run_control": {
     "frozen": false,
     "read_only": false
    }
   },
   "source": [
    "# Task 2: \n",
    "\n",
    "Create a function **computeDiffs**, which creates the dataframe Diffs as specified above\n",
    "\n",
    "\n",
    "######  <span style=\"color:blue\">Code:</span>\n",
    "```python\n",
    "Diffs = computeDiffs(Tables)\n",
    "print type(Diffs)\n",
    "print Diffs.shape[1]\n",
    "print \"IBM_D\" in Diffs.columns and \"IBM_P\" in Diffs.columns\n",
    "\n",
    "```\n",
    "\n",
    "######  <span style=\"color:magenta\">Output:</span>\n",
    "```python\n",
    "<class 'pandas.core.frame.DataFrame'>\n",
    "952\n",
    "True\n",
    "```\n"
   ]
  },
  {
   "cell_type": "code",
   "execution_count": 10,
   "metadata": {
    "collapsed": false,
    "deletable": true,
    "editable": true,
    "run_control": {
     "frozen": false,
     "read_only": false
    }
   },
   "outputs": [],
   "source": [
    "def computeDiffs(Tables):\n",
    "    #Tables: the dictionary Tables that was computed in Task1 \n",
    "    \n",
    "    Diffs=pd.DataFrame()\n",
    "    # ... write implementation\n",
    "    for key in Tables.keys():\n",
    "        Tables[key][key + '_D'] = np.log(Tables[key]['Adj. Open'].shift(-1) / Tables[key]['Adj. Open'])\n",
    "        tmp = Tables[key][['Adj. Open',key + '_D']][:-1] \n",
    "        tmp.columns = [key + '_P', key + '_D']\n",
    "        Diffs = Diffs.merge(tmp, left_index=True, right_index=True, how='outer')\n",
    "    \n",
    "    return Diffs  #<-- a dataframe as described above\n"
   ]
  },
  {
   "cell_type": "code",
   "execution_count": 11,
   "metadata": {
    "collapsed": false,
    "deletable": false,
    "editable": false,
    "nbgrader": {
     "checksum": "e7621daf3692573d52c50679d573e30b",
     "grade": true,
     "grade_id": "ex2",
     "locked": true,
     "points": 1,
     "schema_version": 1,
     "solution": false
    },
    "run_control": {
     "frozen": false,
     "read_only": false
    }
   },
   "outputs": [
    {
     "name": "stdout",
     "output_type": "stream",
     "text": [
      "great job!\n"
     ]
    }
   ],
   "source": [
    "from Tester import prepare as tasks\n",
    "Diffs = tasks.ex2( computeDiffs(Tables) )"
   ]
  },
  {
   "cell_type": "code",
   "execution_count": 12,
   "metadata": {
    "collapsed": false,
    "deletable": false,
    "editable": false,
    "nbgrader": {
     "checksum": "b997f37ccdd2ed08f500c676760ac697",
     "grade": false,
     "grade_id": "19",
     "locked": true,
     "schema_version": 1,
     "solution": false
    },
    "run_control": {
     "frozen": false,
     "read_only": false
    },
    "scrolled": false
   },
   "outputs": [
    {
     "data": {
      "image/png": "[encoded data removed]",
      "text/plain": [
       "<matplotlib.figure.Figure at 0x7f31ef203110>"
      ]
     },
     "metadata": {},
     "output_type": "display_data"
    }
   ],
   "source": [
    "# plot some stocks\n",
    "Diffs[['AAPL_P','MSFT_P','IBM_P']].plot(figsize=(14,10));\n",
    "plt.grid()"
   ]
  },
  {
   "cell_type": "markdown",
   "metadata": {
    "deletable": false,
    "editable": false,
    "nbgrader": {
     "checksum": "fd958a14777803fa99cf359fdbff1c39",
     "grade": false,
     "grade_id": "17",
     "locked": true,
     "schema_version": 1,
     "solution": false
    },
    "run_control": {
     "frozen": false,
     "read_only": false
    }
   },
   "source": [
    "Lastly,we now save *Diffs* as a csv"
   ]
  },
  {
   "cell_type": "code",
   "execution_count": 13,
   "metadata": {
    "collapsed": false,
    "deletable": false,
    "editable": false,
    "nbgrader": {
     "checksum": "4b4ee082d57084678f832fda60ceea34",
     "grade": false,
     "grade_id": "18",
     "locked": true,
     "schema_version": 1,
     "solution": false
    },
    "run_control": {
     "frozen": false,
     "read_only": false
    }
   },
   "outputs": [],
   "source": [
    "Diffs.to_csv('SP500.csv')"
   ]
  },
  {
   "cell_type": "code",
   "execution_count": null,
   "metadata": {
    "collapsed": true,
    "deletable": false,
    "editable": false,
    "nbgrader": {
     "checksum": "c48f3cb737fbe803e3ab4977e6046e76",
     "grade": false,
     "grade_id": "20",
     "locked": true,
     "schema_version": 1,
     "solution": false
    },
    "run_control": {
     "frozen": false,
     "read_only": false
    }
   },
   "outputs": [],
   "source": [
    "\n",
    "\n",
    "\n",
    "\n",
    "\n",
    "\n",
    "\n",
    "\n",
    "\n",
    "\n",
    "\n",
    "\n",
    "\n",
    "\n",
    "\n",
    "\n"
   ]
  }
 ],
 "metadata": {
  "anaconda-cloud": {},
  "kernelspec": {
   "display_name": "Python 2",
   "language": "python",
   "name": "python2"
  },
  "language_info": {
   "codemirror_mode": {
    "name": "ipython",
    "version": 2
   },
   "file_extension": ".py",
   "mimetype": "text/x-python",
   "name": "python",
   "nbconvert_exporter": "python",
   "pygments_lexer": "ipython2",
   "version": "2.7.13"
  },
  "toc": {
   "colors": {
    "hover_highlight": "#DAA520",
    "running_highlight": "#FF0000",
    "selected_highlight": "#FFD700"
   },
   "moveMenuLeft": true,
   "nav_menu": {
    "height": "135px",
    "width": "253px"
   },
   "navigate_menu": true,
   "number_sections": true,
   "sideBar": true,
   "threshold": 4,
   "toc_cell": false,
   "toc_position": {
    "height": "552px",
    "left": "0px",
    "right": "1216px",
    "top": "109px",
    "width": "182px"
   },
   "toc_section_display": "block",
   "toc_window_display": true,
   "widenNotebook": false
  }
 },
 "nbformat": 4,
 "nbformat_minor": 0
}
