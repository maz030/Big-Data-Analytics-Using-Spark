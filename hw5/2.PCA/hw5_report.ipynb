{
 "cells": [
  {
   "cell_type": "markdown",
   "metadata": {
    "collapsed": true
   },
   "source": [
    "# Southeast Arizona Weather Analysis\n",
    "\n",
    "This is a report on the historical analysis of weather patterns in an area that approximately overlaps the area of the southeast Arizona, close to city Tucson.\n",
    "\n",
    "The data we will use here comes from [NOAA](https://www.ncdc.noaa.gov/). Specifically, it was downloaded from This [FTP site](ftp://ftp.ncdc.noaa.gov/pub/data/ghcn/daily/).\n",
    "\n",
    "<p><img alt=\"map.png\" src=\"hw5_figures/map.png\" style=\"height:300px; width:500px\" /></p>\n",
    "\n",
    "We focused on six measurements:\n",
    "* **TMIN, TMAX:** the daily minimum and maximum temperature.\n",
    "* **TOBS:** The average temperature for each day.\n",
    "* **PRCP:** Daily Percipitation (in mm)\n",
    "* **SNOW:** Daily snowfall (in mm)\n",
    "* **SNWD:** The depth of accumulated snow.\n",
    "\n",
    "## Sanity-check: comparison with outside sources\n",
    "\n",
    "<p>We start by comparing some of the general statistics with graphs that we obtained from a site called <a href=\"http://www.usclimatedata.com/climate/boston/massachusetts/united-states/usma0046\" target=\"_blank\">US Climate Data</a> The graph below shows the daily minimum and maximum temperatures for each month, as well as the total precipitation for each month. The data is from city Tucson, Arizona, which is very close to the area of our dataset in HW5.</p>\n",
    "<p>&nbsp;</p>\n",
    "<p><img alt=\"tucson_onweb.jpg\" src=\"hw5_figures/tucson_onweb.jpg\" style=\"height:300px; width:450px\" /></p>\n",
    "<p>&nbsp;</p>\n",
    "\n",
    "<p>We see that the min and max daily temperature agree with the ones we got from our data. In our data, the value of y axis divided by 10 is equal to the actual temperature in centigrade. For example, the highest temperature is in early July. In the plot TMAX, we see the mean TMAX in July is 37 celsius， which converted to Fahrenheit is 98.6. It is very close to the peek in the graph from US Climate Data. </p>\n",
    "\n",
    "<P><img alt=\"TMIN_TMAX\" src=\"hw5_figures/TMIN_TMAX.png\"></P>\n",
    "\n",
    "Now we compare PRCP. We can see the shape of the curve of our data is very close to the data from the website. For example, the highest precipitation is in August. From our data, we see the daily PRCP in August is about 21/10 = 2.1 mm. So in month, PRCP is 2.1*30 = 63mm per month. When converted to inch, it is 2.48 inch per month. And the peek in the histogram above is very close to 2.48 inch.\n",
    "\n",
    "Besides, we can clearly see the precipitation between April and June is very low. \n",
    "\n",
    "<p>&nbsp;<img alt=\"PRCP.png\" src=\"hw5_figures/PRCP.png\" style=\"height:450px; width:600px\" /></p>\n",
    "\n",
    "<p>We also have the data for SNOW and SNWD. In the graph we see in summer, there is little snow in that area. And in other months of the year, the snow is also very rare because the mean is close to 0.</p>\n",
    "<p><img alt=\"SNOW\" src=\"hw5_figures/SNOW.png\"></p>\n",
    "\n",
    "Based on the data and graph we generated, combining with our knowledge, all these conclusions are reasonable. Arizona is rounded by desert and is very hot in summer. Also, due to local climate, precipitation is very low and almost no snow over the year."
   ]
  },
  {
   "cell_type": "markdown",
   "metadata": {},
   "source": [
    "## PCA Analysis\n",
    "\n",
    "For each of the six measurement, we compute the percentate of the variance explained as a function of the number of eigen-vectors used.\n",
    "\n",
    "### Percentage of variance explained\n",
    "![perc1.png](hw5_figures/perc1.png)\n",
    "We see that the top 5 eigen-vectors explain 47% of variance for TMIN, 60% for TOBS and 47% for TMAX.\n",
    "We conclude that of the three, TOBS is best explained by the top 5 eigenvectors. This is especially true for the first eigen-vector which, by itself, explains 52% of the variance.\n",
    "\n",
    "![perc2.png](hw5_figures/perc2.png)\n",
    "\n",
    "The top 5 eigenvectors explain 8.5% of the variance for PRCP and 16% for SNOW. Both are low values. On the other hand the top 5 eigenvectors explain %87 of the variance for SNWD. This means that these top 5 eigenvectors capture most of the variation in the snow signals. \n",
    "It makes sense that SNWD would be less noisy than SNOW. That is because SNWD is a decaying integral of SNOW and, as such, varies less between days and between the same date on diffferent years.\n",
    "\n",
    "Based on that we will dig deeper into the PCA analysis for snow-depth."
   ]
  },
  {
   "cell_type": "markdown",
   "metadata": {},
   "source": [
    "## Analysis of snow depth\n",
    "\n",
    "### Mean and eigen-vectors\n",
    "\n",
    "We choose to analyze the eigen-decomposition for snow-depth because the first 3 eigen-vectors explain 82% of the variance.\n",
    "\n",
    "We get the mean and the top 3 eigenvectors.\n",
    "\n",
    "We observe that the snow season is from November to the April, where the peak of the snow-depth is around January.\n",
    "\n",
    "<p><img alt=\"SNWD_eigen\" src=\"hw5_figures/SNWD_eigen.png\" style=\"height:450px; width:600px\"></p>"
   ]
  },
  {
   "cell_type": "markdown",
   "metadata": {},
   "source": [
    "In the eigenvector plot, we see eig1 has the similar shape as mean but is flat compared to mean. Eig2 and eig3 oscilate between positive and negative values and they contribute the distribution of of snow depth over the year. We can interpret top 3 eigenvectors in this way:\n",
    "* **eig1:** determine the tendency of SNWD, little snow between April and November.\n",
    "* **eig2:** little snow in the end of December.\n",
    "* **eig3:** more snow in March, little snow in Feb.\n"
   ]
  },
  {
   "cell_type": "markdown",
   "metadata": {},
   "source": [
    "### Best reconstruction\n",
    "Calculating the residual normalized norm, we can tell which one is the best reconstruction of our original data. And with the help of Eigen_decomp method, we can get the plot of best reconstruction.\n",
    "\n",
    "<p><img alt=\"best_reconstruction\" src=\"hw5_figures/best_reconstruction.png\" style=\"height:450px; width:600px\"></p>"
   ]
  },
  {
   "cell_type": "markdown",
   "metadata": {},
   "source": [
    "We see the residual normalized norm after mean is near 1, but after adding top eigs, the norm value decreases rapidly. We can conclude that eig1 can reconstruct the original data very well. But of course, the best reconstruction will be the combination of mean and top 3 eigs. \n",
    "\n",
    "The conclusion above is illustrated by the graph directly. We see mean is very flat but the red curve is very close to the target."
   ]
  },
  {
   "cell_type": "markdown",
   "metadata": {},
   "source": [
    "### Estimating the effect of the year vs the effect of the station\n",
    "To estimate the effect of time vs. location on the first eigenvector coefficient we\n",
    "compute:\n",
    "\n",
    "* The average row: `mean-by-station`\n",
    "* The average column: `mean-by-year`\n",
    "\n",
    "We then compute the RMS before and after subtracting either  the row or the column vector."
   ]
  },
  {
   "cell_type": "markdown",
   "metadata": {},
   "source": [
    "We get the following results:\n",
    "<p><img src=\"hw5_figures/RMS.png\" style=\"height:100px; width:400px\"></p>\n",
    "\n",
    "<p>We see RMS removing mean-by-year is much smaller than RMS removing mean-by-station. This means year plays a more significant role in effects on data.</p>"
   ]
  },
  {
   "cell_type": "markdown",
   "metadata": {},
   "source": [
    "## Analysis of correlation between percipitation across locations\n"
   ]
  },
  {
   "cell_type": "markdown",
   "metadata": {},
   "source": [
    "### Definition of statistical test\n",
    "\n",
    "We want to find a statistical test for rejecting the null hypothesis that says that the rainfall in the two locations is independent.\n",
    "\n",
    "Using the inner product is too noisy, because you multiply the rainfall on the same day in two locations and that product can be very large - leading to a large variance and poor ability to discriminate.\n",
    "\n",
    "An alternative is to ignore the amount of rain, and just ask whether it rained in both locations. We can then compute the probability associated with the number of overlaps under the null hypothesis."
   ]
  },
  {
   "cell_type": "markdown",
   "metadata": {},
   "source": [
    "Fix two stations. We restrict our attention to the days for which we have measurements for both stations, and define the following notation:\n",
    "* $m$ : the total number of days (for which we have measurements for both stations).\n",
    "* $n_1$ : the number of days that it rained on station 1\n",
    "* $n_2$ : the number of days that it rained on station 2\n",
    "* $l$ : the number of days that it rained on both stations.\n",
    "\n",
    "We want to calculate the probability that the number of overlap days is $l$ given $m,n_1,n_2$.\n",
    "\n",
    "The answer is:\n",
    "$$\n",
    "P = {m \\choose l,n_1-l,n_2-l,m-n_1-n_2+l} /{m \\choose n_1}{m \\choose n_2}\n",
    "$$\n",
    "\n",
    "Where\n",
    "$$\n",
    "{m \\choose l,n_1-l,n_2-l,m-n_1-n_2+l} = \\frac{m!}{l! (n_1-l)! (n_2-l)! (m-n_1-n_2+l)!}\n",
    "$$\n",
    "\n",
    "We use the fact that $\\Gamma(n+1) = n!$ and denote $G(n) \\doteq \\log \\Gamma(n+1)$\n",
    "$$\n",
    "\\log P = \\left[G(m) - G(l) -G(n_1-l) -G(n_2-l) -G(m-n_1-n_2+l) \\right] - \n",
    "\\left[G(m)-G(n_1)-G(m-n_1)\\right] - \\left[G(m)-G(n_2)-G(m-n_2)\\right]\n",
    "$$\n",
    "Which slightly simplifies to \n",
    "$$\n",
    "\\log P = -G(l) -G(n_1-l) -G(n_2-l) -G(m-n_1-n_2+l) - G(m)+G(n_1)+G(m-n_1) +G(n_2)+G(m-n_2)\n",
    "$$\n",
    "\n",
    "The log probability scales with $m$ the length of the overlap. So to get a per-day significance we consider $\n",
    "\\frac{1}{m} \\log P $"
   ]
  },
  {
   "cell_type": "markdown",
   "metadata": {},
   "source": [
    "### Correlations matrix"
   ]
  },
  {
   "cell_type": "markdown",
   "metadata": {},
   "source": [
    "<p><img src=\"hw5_figures/correlation_matrix.png\" style=\"height:450px; width:450px\"></p>\n",
    "\n",
    "The matrix above shows, for each pair of stations, the normalized log probability that the overlap in rain days is random.\n",
    "We see immediately the first 80 stations are highly correlated with each other.\n"
   ]
  },
  {
   "cell_type": "markdown",
   "metadata": {},
   "source": [
    "To find more correlations we use SVD. As we shall see that the top 10 eigenvectors explain about 85% of the square magnitude of the matrix.\n",
    "\n",
    "<p><img src=\"hw5_figures/SVD.png\" style=\"height:300px; width:450px\"></p>"
   ]
  },
  {
   "cell_type": "markdown",
   "metadata": {},
   "source": [
    "### Reordering matrix using eigen-vectors\n",
    "\n",
    "First, we get the top 4 eigen-vectors.\n",
    "\n",
    "<p><img src=\"hw5_figures/eigen_prcp.png\"></p>"
   ]
  },
  {
   "cell_type": "markdown",
   "metadata": {},
   "source": [
    "Then we reorder the rows and columns of the matrix using one of the eigenvectors. \n",
    "<p><img src=\"hw5_figures/reorder.png\"></p>"
   ]
  },
  {
   "cell_type": "markdown",
   "metadata": {},
   "source": [
    "After reordering, the grouping of the stations becomes more evident. For example, consider the upper left corner of the second matrix. The stations at positions 0-50 are clearly strongly correlated with each other. Even though there are some stations, in positions 15-22 or so, which are more related to each other than to the rest of this block."
   ]
  },
  {
   "cell_type": "code",
   "execution_count": null,
   "metadata": {
    "collapsed": true
   },
   "outputs": [],
   "source": []
  }
 ],
 "metadata": {
  "kernelspec": {
   "display_name": "Python 2",
   "language": "python",
   "name": "python2"
  },
  "language_info": {
   "codemirror_mode": {
    "name": "ipython",
    "version": 2
   },
   "file_extension": ".py",
   "mimetype": "text/x-python",
   "name": "python",
   "nbconvert_exporter": "python",
   "pygments_lexer": "ipython2",
   "version": "2.7.13"
  },
  "toc": {
   "colors": {
    "hover_highlight": "#DAA520",
    "running_highlight": "#FF0000",
    "selected_highlight": "#FFD700"
   },
   "moveMenuLeft": true,
   "nav_menu": {
    "height": "12px",
    "width": "252px"
   },
   "navigate_menu": true,
   "number_sections": true,
   "sideBar": true,
   "threshold": 4,
   "toc_cell": false,
   "toc_section_display": "block",
   "toc_window_display": false,
   "widenNotebook": false
  }
 },
 "nbformat": 4,
 "nbformat_minor": 2
}
