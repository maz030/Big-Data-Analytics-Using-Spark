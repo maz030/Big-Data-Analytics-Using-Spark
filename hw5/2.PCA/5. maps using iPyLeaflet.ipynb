{
 "cells": [
  {
   "cell_type": "markdown",
   "metadata": {
    "run_control": {
     "frozen": false,
     "read_only": false
    }
   },
   "source": [
    "## iPyLeaflet\n",
    "[ipyleaflet](https://github.com/ellisonbg/ipyleaflet) is a bridge between jupyter notebooks and the [leaflet](http://leafletjs.com/)  javascript library for drawing maps.\n",
    "\n",
    "ipyleaflet comes with a few examples notebooks (this notebook was derived from one) but very little documentation,\n",
    "for more documentation read the [Leaflet IPA](http://leafletjs.com/reference.html)\n",
    "\n",
    "For installation directions, see the README on [ipyleaflet](https://github.com/ellisonbg/ipyleaflet)"
   ]
  },
  {
   "cell_type": "code",
   "execution_count": 1,
   "metadata": {
    "collapsed": true,
    "run_control": {
     "frozen": false,
     "read_only": false
    }
   },
   "outputs": [],
   "source": [
    "from ipyleaflet import (\n",
    "    Map,\n",
    "    Marker,\n",
    "    TileLayer, ImageOverlay,\n",
    "    Polyline, Polygon, Rectangle, Circle, CircleMarker,\n",
    "    GeoJSON,\n",
    "    DrawControl\n",
    ")"
   ]
  },
  {
   "cell_type": "markdown",
   "metadata": {
    "run_control": {
     "frozen": false,
     "read_only": false
    }
   },
   "source": [
    "## Visualizing the distribution of the observations\n",
    "\n",
    "## Load the required libraries"
   ]
  },
  {
   "cell_type": "code",
   "execution_count": 2,
   "metadata": {
    "collapsed": true,
    "run_control": {
     "frozen": false,
     "read_only": false
    }
   },
   "outputs": [],
   "source": [
    "import pandas as pd\n",
    "import numpy as np\n",
    "import sklearn as sk\n",
    "import urllib\n",
    "import math"
   ]
  },
  {
   "cell_type": "code",
   "execution_count": 3,
   "metadata": {
    "collapsed": true,
    "run_control": {
     "frozen": false,
     "read_only": false
    }
   },
   "outputs": [],
   "source": [
    "import findspark\n",
    "findspark.init()\n",
    "\n",
    "from pyspark import SparkContext\n",
    "#sc.stop()\n",
    "sc = SparkContext(master=\"local[3]\",pyFiles=['lib/numpy_pack.py','lib/computeStats.py'])\n",
    "\n",
    "from pyspark import SparkContext\n",
    "from pyspark.sql import *\n",
    "sqlContext = SQLContext(sc)"
   ]
  },
  {
   "cell_type": "code",
   "execution_count": 4,
   "metadata": {
    "collapsed": true,
    "run_control": {
     "frozen": false,
     "read_only": false
    }
   },
   "outputs": [],
   "source": [
    "import sys\n",
    "sys.path.append('./lib')\n",
    "\n",
    "import numpy as np\n",
    "from numpy_pack import packArray,unpackArray\n",
    "from computeStats import computeOverAllDist, STAT_Descriptions"
   ]
  },
  {
   "cell_type": "code",
   "execution_count": 5,
   "metadata": {
    "run_control": {
     "frozen": false,
     "read_only": false
    }
   },
   "outputs": [
    {
     "name": "stdout",
     "output_type": "stream",
     "text": [
      "('keys from STAT=', ['TMIN', 'TOBS', 'TMAX', 'SNOW', 'SNWD', 'PRCP'])\n",
      "173\n",
      "+-----------------+------------------+-------------------+---------+--------+--------+---------+-----------+-------------------+-------------------+--------------------+------------------+-----------+-----------+------+--------------------+------+\n",
      "|          coeff_1|           coeff_2|            coeff_3|elevation|   label|latitude|longitude|measurement|              res_1|              res_2|               res_3|          res_mean|    station|  total_var|undefs|              vector|  year|\n",
      "+-----------------+------------------+-------------------+---------+--------+--------+---------+-----------+-------------------+-------------------+--------------------+------------------+-----------+-----------+------+--------------------+------+\n",
      "|7016.922019697208| 405.9717079956823| 1485.8793711666474|   2425.0|SSSSBSSB| 32.4167|-110.7167|       SNWD|0.09045087329175419|0.08870457144676223|0.048684529160532425|0.9957368938467362|USC00026202| 5.448586E7|     2|[0F 65 F6 64 F6 6...|1968.0|\n",
      "|4129.262732380521|423.63370454373387|-1912.8370595544638|   2425.0|SSSSBSSB| 32.4167|-110.7167|       SNWD|0.28855356480820404|0.28588709063209716| 0.14430765262019254|0.9947437071618296|USC00026202|2.4936315E7|    42|[C4 5C F0 5B 58 5...|1979.0|\n",
      "+-----------------+------------------+-------------------+---------+--------+--------+---------+-----------+-------------------+-------------------+--------------------+------------------+-----------+-----------+------+--------------------+------+\n",
      "only showing top 2 rows\n",
      "\n"
     ]
    }
   ],
   "source": [
    "### Read the data frame from pickle file\n",
    "\n",
    "data_dir='../../Data/Weather'\n",
    "file_index='SSSSBSSB'\n",
    "meas='SNWD'\n",
    "\n",
    "from pickle import load\n",
    "\n",
    "#read statistics\n",
    "filename=data_dir+'/STAT_%s.pickle'%file_index\n",
    "STAT,STAT_Descriptions = load(open(filename,'rb'))\n",
    "print('keys from STAT=',STAT.keys())\n",
    "\n",
    "#!ls -ld $data_dir/*.parquet\n",
    "\n",
    "#read data\n",
    "filename=data_dir+'/decon_%s_%s.parquet'%(file_index,meas)\n",
    "\n",
    "df=sqlContext.read.parquet(filename)\n",
    "print(df.count())\n",
    "df.show(2)"
   ]
  },
  {
   "cell_type": "code",
   "execution_count": 25,
   "metadata": {
    "run_control": {
     "frozen": false,
     "read_only": false
    },
    "scrolled": true
   },
   "outputs": [
    {
     "name": "stdout",
     "output_type": "stream",
     "text": [
      "SELECT station, latitude,longitude,elevation,coeff_1 FROM weather\n",
      "173\n",
      "+-----------+--------+---------+---------+-------------------+\n",
      "|    station|latitude|longitude|elevation|            coeff_1|\n",
      "+-----------+--------+---------+---------+-------------------+\n",
      "|USC00026202| 32.4167|-110.7167|   2425.0|  7016.922019697208|\n",
      "|USC00026202| 32.4167|-110.7167|   2425.0|  4129.262732380521|\n",
      "|USC00026202| 32.4167|-110.7167|   2425.0|  2489.595929290923|\n",
      "|USC00026202| 32.4167|-110.7167|   2425.0|   8253.47255564246|\n",
      "|USC00026202| 32.4167|-110.7167|   2425.0| 1690.9351070156104|\n",
      "|USC00025733| 32.4167|-110.7167|   2345.1|  579.3033662369749|\n",
      "|USC00026202| 32.4167|-110.7167|   2425.0|  933.8481370018271|\n",
      "|USC00026202| 32.4167|-110.7167|   2425.0|  735.0838672533273|\n",
      "|USC00026202| 32.4167|-110.7167|   2425.0|  904.8192130648322|\n",
      "|USC00026202| 32.4167|-110.7167|   2425.0|   727.572467154474|\n",
      "|USC00023698|   33.25|-109.3833|   2030.0|  512.9989056727281|\n",
      "|USC00026561|   33.35|-110.9833|   1378.9|  70.96267019942731|\n",
      "|USC00026202| 32.4167|-110.7167|   2425.0|  775.6587196122654|\n",
      "|USC00026202| 32.4167|-110.7167|   2425.0| 192.12196851752137|\n",
      "|USC00026202| 32.4167|-110.7167|   2425.0|  436.1316111345434|\n",
      "|USC00026202| 32.4167|-110.7167|   2425.0| 27.386081293169656|\n",
      "|USC00023698|   33.25|-109.3833|   2030.0| 129.15311635031298|\n",
      "|USC00025733| 32.4167|-110.7167|   2345.1|  332.5487382509111|\n",
      "|USC00026561|   33.35|-110.9833|   1378.9| 100.33001473557773|\n",
      "|USC00026561|   33.35|-110.9833|   1378.9|  66.07292301071391|\n",
      "|USC00025733| 32.4167|-110.7167|   2345.1| 392.44826091697917|\n",
      "|USC00026561|   33.35|-110.9833|   1378.9| 19.546599362458977|\n",
      "|USC00023698|   33.25|-109.3833|   2030.0| 114.91754573770937|\n",
      "|USC00023635|    33.2|-109.3833|   2073.9| 152.38911636300344|\n",
      "|USC00026561|   33.35|-110.9833|   1378.9|   221.521014402119|\n",
      "|USC00026561|   33.35|-110.9833|   1378.9| 137.00294981587342|\n",
      "|USC00026561|   33.35|-110.9833|   1378.9| 0.7762499299439157|\n",
      "|USC00026116|    32.6|-110.7833|   1403.0| 19.924579862326638|\n",
      "|USC00023698|   33.25|-109.3833|   2030.0|   5.14805799334156|\n",
      "|USC00026116|    32.6|-110.7833|   1403.0|  455.9553704854824|\n",
      "|USC00020923| 32.5667|   -110.2|   1464.0|  50.74345009208079|\n",
      "|USC00026561|   33.35|-110.9833|   1378.9| 18.083013560726375|\n",
      "|USC00023150| 33.0094|-109.9855|    864.1|  15.01841737840908|\n",
      "|USC00026561|   33.35|-110.9833|   1378.9|  47.23476040055377|\n",
      "|USC00026561|   33.35|-110.9833|   1378.9| 30.406104269594568|\n",
      "|USC00026561|   33.35|-110.9833|   1378.9| 30.064062923368393|\n",
      "|USC00026561|   33.35|-110.9833|   1378.9| 20.559099133183594|\n",
      "|USC00026116|    32.6|-110.7833|   1403.0| -9.871761600956876|\n",
      "|USC00026561|   33.35|-110.9833|   1378.9|  40.15719059662777|\n",
      "|USC00026561|   33.35|-110.9833|   1378.9|   78.1989435652381|\n",
      "|USC00026561|   33.35|-110.9833|   1378.9|  20.10188856777563|\n",
      "|USC00026561|   33.35|-110.9833|   1378.9|-12.092730738760311|\n",
      "|USC00027530| 32.6014|-110.6339|   1054.6| -5.296695351170015|\n",
      "|USC00026561|   33.35|-110.9833|   1378.9|  84.03672609312687|\n",
      "|USC00026116|    32.6|-110.7833|   1403.0| 33.386513549686896|\n",
      "|USC00026561|   33.35|-110.9833|   1378.9|  44.35778861582393|\n",
      "|USC00026561|   33.35|-110.9833|   1378.9|  82.66311768226547|\n",
      "|USC00029334| 32.2553|-109.8369|   1271.0| -10.68439116761357|\n",
      "|USC00023110| 32.6231|-109.9428|   1478.3|  -8.13089156273659|\n",
      "|USC00026116|    32.6|-110.7833|   1403.0|  81.25597581329748|\n",
      "|USC00026561|   33.35|-110.9833|   1378.9|  73.86681693767179|\n",
      "|USC00026561|   33.35|-110.9833|   1378.9|  63.09846930244068|\n",
      "|USC00026119| 32.6025|-110.7344|   1374.6|  43.42140778281717|\n",
      "|USC00026116|    32.6|-110.7833|   1403.0|  49.60226485154262|\n",
      "|USC00020903|   33.15|-109.7833|   1464.0|  32.10443462343278|\n",
      "|USC00026561|   33.35|-110.9833|   1378.9|  7.072026746598399|\n",
      "|USC00026561|   33.35|-110.9833|   1378.9| -6.924739418471655|\n",
      "|USC00026116|    32.6|-110.7833|   1403.0|  10.48726669747021|\n",
      "|USC00026561|   33.35|-110.9833|   1378.9| 163.41417250941743|\n",
      "|USC00026119| 32.6025|-110.7344|   1374.6| -5.216821491175425|\n",
      "|USC00026116|    32.6|-110.7833|   1403.0|  8.763686861847445|\n",
      "|USC00023698|   33.25|-109.3833|   2030.0|  20.02711889828003|\n",
      "|USC00026116|    32.6|-110.7833|   1403.0|-1.9405814332997768|\n",
      "|USC00023110| 32.6231|-109.9428|   1478.3|-3.9462411320978177|\n",
      "|USC00026561|   33.35|-110.9833|   1378.9|  17.84031927031291|\n",
      "|USC00026561|   33.35|-110.9833|   1378.9|  9.636732622776922|\n",
      "|USC00026561|   33.35|-110.9833|   1378.9| 28.786892691814387|\n",
      "|USC00026561|   33.35|-110.9833|   1378.9|  83.17762083745977|\n",
      "|USC00026561|   33.35|-110.9833|   1378.9| 16.219454252844805|\n",
      "|USC00027560| 32.2714|-109.2256|   1100.3| -7.618992991401381|\n",
      "|USC00020923| 32.5667|   -110.2|   1464.0|-10.769210349854022|\n",
      "|USC00026561|   33.35|-110.9833|   1378.9|  6.167696952021032|\n",
      "|USC00026561|   33.35|-110.9833|   1378.9| -7.296204440396537|\n",
      "|USC00026119| 32.6025|-110.7344|   1374.6|-12.150762710486875|\n",
      "|USC00026561|   33.35|-110.9833|   1378.9| -9.538159912976855|\n",
      "|USC00026561|   33.35|-110.9833|   1378.9| -7.800053599489673|\n",
      "|USC00027530| 32.6014|-110.6339|   1054.6| -9.558307752552277|\n",
      "|USC00026116|    32.6|-110.7833|   1403.0|  4.997348299968361|\n",
      "|USC00022648| 32.1667|   -109.6|   1556.0| 25.097919787526614|\n",
      "|USC00026119| 32.6025|-110.7344|   1374.6|  5.823286951575499|\n",
      "|USC00026116|    32.6|-110.7833|   1403.0|-1.3678906958588968|\n",
      "|USC00028348| 33.3003|-111.0972|    871.7| -12.64866425599679|\n",
      "|USC00028349|  33.305|-111.0672|   1266.4| 11.191894186916862|\n",
      "|USC00029334| 32.2553|-109.8369|   1271.0| 0.6972709945980089|\n",
      "|USC00023110| 32.6231|-109.9428|   1478.3| -6.013513402408665|\n",
      "|USC00026561|   33.35|-110.9833|   1378.9| -7.864183996454096|\n",
      "|USC00021330| 32.3222|-110.4147|    973.5| -12.21870939274086|\n",
      "|USC00028348| 33.3003|-111.0972|    871.7| 19.970302217477467|\n",
      "|USC00029334| 32.2553|-109.8369|   1271.0| -4.443661149757659|\n",
      "|USC00026561|   33.35|-110.9833|   1378.9| -3.824382732125841|\n",
      "|USC00026561|   33.35|-110.9833|   1378.9|-0.0858824236544784|\n",
      "|USC00026119| 32.6025|-110.7344|   1374.6| -7.022773453027607|\n",
      "|USC00026116|    32.6|-110.7833|   1403.0|  24.37191976771218|\n",
      "|USC00020923| 32.5667|   -110.2|   1464.0| -8.774198888168335|\n",
      "|USC00029334| 32.2553|-109.8369|   1271.0|-10.377525478455839|\n",
      "|USC00026561|   33.35|-110.9833|   1378.9| -0.831790113887676|\n",
      "|USC00026561|   33.35|-110.9833|   1378.9|-3.5036544166996326|\n",
      "|USC00022648| 32.1667|   -109.6|   1556.0|  21.32845419734648|\n",
      "|USC00026561|   33.35|-110.9833|   1378.9| -9.859775579542909|\n",
      "|USC00028348| 33.3003|-111.0972|    871.7| -4.175285509404638|\n",
      "|USC00020923| 32.5667|   -110.2|   1464.0| 3.5348913730827505|\n",
      "|USC00026116|    32.6|-110.7833|   1403.0| -4.888075552379813|\n",
      "|USC00026561|   33.35|-110.9833|   1378.9|  2.681430204765357|\n",
      "|USC00026561|   33.35|-110.9833|   1378.9| 11.441522496857083|\n",
      "|USC00026119| 32.6025|-110.7344|   1374.6|  1.997160467714843|\n",
      "|USC00026116|    32.6|-110.7833|   1403.0|  22.79231270423471|\n",
      "|USC00026561|   33.35|-110.9833|   1378.9|  9.659891909811684|\n",
      "|USC00029334| 32.2553|-109.8369|   1271.0| 7.8504873562013335|\n",
      "|USC00028815| 32.2292|-110.9536|    742.2|  -2.11815787799749|\n",
      "|USC00026116|    32.6|-110.7833|   1403.0| 13.332623049638496|\n",
      "|USC00026119| 32.6025|-110.7344|   1374.6|  -2.78143463874033|\n",
      "|USC00029334| 32.2553|-109.8369|   1271.0|-10.560214739644493|\n",
      "|USC00027530| 32.6014|-110.6339|   1054.6| -7.677184923180217|\n",
      "|USC00026561|   33.35|-110.9833|   1378.9|   3.03981104654096|\n",
      "|USC00026561|   33.35|-110.9833|   1378.9|-2.4712336099192314|\n",
      "|USC00022648| 32.1667|   -109.6|   1556.0| -4.255782294084957|\n",
      "|USC00023110| 32.6231|-109.9428|   1478.3|-1.8375155671384729|\n",
      "|USC00026116|    32.6|-110.7833|   1403.0|-10.486174249292112|\n",
      "|USW00023109| 32.1667|-110.8833|    808.9| 2.9857945602721987|\n",
      "|USC00023110| 32.6231|-109.9428|   1478.3| -7.366208086455793|\n",
      "|USC00028348| 33.3003|-111.0972|    871.7|  9.291548535173149|\n",
      "|USC00026561|   33.35|-110.9833|   1378.9| -13.01910826983908|\n",
      "|USC00028348| 33.3003|-111.0972|    871.7| -4.640349995090092|\n",
      "|USW00023109| 32.1667|-110.8833|    808.9| -6.464411070153808|\n",
      "|USC00023110| 32.6231|-109.9428|   1478.3|  -10.5346719782366|\n",
      "|USC00026561|   33.35|-110.9833|   1378.9|  -3.05953051840911|\n",
      "|USC00028348| 33.3003|-111.0972|    871.7|-3.2411528205991087|\n",
      "|USC00027390|  32.815|-109.6808|    900.4| 15.123500360276697|\n",
      "|USC00026116|    32.6|-110.7833|   1403.0| -12.39253145986416|\n",
      "|USC00020958|  32.325|-109.4917|   1151.2|  30.13700042125649|\n",
      "|USC00020958|  32.325|-109.4917|   1151.2|-3.6932395487703698|\n",
      "|USC00027390|  32.815|-109.6808|    900.4| -9.592250636929057|\n",
      "|USC00023110| 32.6231|-109.9428|   1478.3|-12.540615939149035|\n",
      "|USC00023110| 32.6231|-109.9428|   1478.3| -6.172629875565972|\n",
      "|USC00023110| 32.6231|-109.9428|   1478.3| -6.656795013288975|\n",
      "|USC00026561|   33.35|-110.9833|   1378.9| 2.1611619095673333|\n",
      "|USC00023110| 32.6231|-109.9428|   1478.3|  77.66579487277707|\n",
      "|USC00022648| 32.1667|   -109.6|   1556.0| -6.487707992121021|\n",
      "|USC00027530| 32.6014|-110.6339|   1054.6|-14.908295280052414|\n",
      "|USC00026119| 32.6025|-110.7344|   1374.6| -2.841500057729646|\n",
      "|USC00027530| 32.6014|-110.6339|   1054.6|  3.093508131181588|\n",
      "|USC00029334| 32.2553|-109.8369|   1271.0|  -8.54805855830888|\n",
      "|USC00026561|   33.35|-110.9833|   1378.9| 16.754892257105098|\n",
      "|USC00029334| 32.2553|-109.8369|   1271.0|-12.023669701442092|\n",
      "|USC00027560| 32.2714|-109.2256|   1100.3|  6.595550341931347|\n",
      "|USC00026561|   33.35|-110.9833|   1378.9|-12.469267488029125|\n",
      "|USC00021849| 33.0561|-109.3072|   1072.9| -7.515810323493786|\n",
      "|USC00021330| 32.3222|-110.4147|    973.5| -7.445199614429247|\n",
      "|USC00028348| 33.3003|-111.0972|    871.7| -7.370388814586744|\n",
      "|USC00021849| 33.0561|-109.3072|   1072.9| 40.532047637235976|\n",
      "|USC00028348| 33.3003|-111.0972|    871.7|  -5.48030099470945|\n",
      "|USC00020958|  32.325|-109.4917|   1151.2| 13.322676836654015|\n",
      "|USW00023160| 32.1314|-110.9553|    776.9|-4.7141539078643655|\n",
      "|USC00020958|  32.325|-109.4917|   1151.2|-12.469267488029125|\n",
      "|USC00026116|    32.6|-110.7833|   1403.0|  4.426282042085641|\n",
      "|USC00028348| 33.3003|-111.0972|    871.7| 1.3078441249432444|\n",
      "|USC00029334| 32.2553|-109.8369|   1271.0|  8.256966371466387|\n",
      "|USC00028348| 33.3003|-111.0972|    871.7| 12.928074450059258|\n",
      "|USC00027390|  32.815|-109.6808|    900.4| -7.452933454155274|\n",
      "|USC00027058| 32.4833|-111.3333|    573.0| -5.109059488491062|\n",
      "|USW00023160| 32.1314|-110.9553|    776.9| -9.797372055319375|\n",
      "|USC00020958|  32.325|-109.4917|   1151.2| 0.1295997956244328|\n",
      "|USC00028348| 33.3003|-111.0972|    871.7| -6.013513402408665|\n",
      "|USC00020958|  32.325|-109.4917|   1151.2|  7.973740297293382|\n",
      "|USC00027530| 32.6014|-110.6339|   1054.6| -4.731271357867714|\n",
      "|USC00020958|  32.325|-109.4917|   1151.2| -4.581779753346346|\n",
      "|USC00028815| 32.2292|-110.9536|    742.2| -8.794955541507568|\n",
      "|USC00020958|  32.325|-109.4917|   1151.2|-1.2169053298893404|\n",
      "|USC00026117|   32.61|-110.7317|   1400.6|-14.939174718376588|\n",
      "|USC00028348| 33.3003|-111.0972|    871.7| -8.867248862326642|\n",
      "|USC00028800|   32.25|-110.8333|    769.9| -6.303382395799231|\n",
      "|USC00027388| 32.8333|-109.7167|    885.1| -9.485849863902402|\n",
      "|USW00023109| 32.1667|-110.8833|    808.9| -7.053220552981051|\n",
      "+-----------+--------+---------+---------+-------------------+\n",
      "\n"
     ]
    }
   ],
   "source": [
    "#extract longitude and latitude for each station\n",
    "feature='coeff_1'\n",
    "sqlContext.registerDataFrameAsTable(df,'weather')\n",
    "Query=\"SELECT station, latitude,longitude,elevation,%s FROM weather\"%feature\n",
    "print(Query)\n",
    "df1 = sqlContext.sql(Query)\n",
    "print df1.count()\n",
    "df1.show(173)"
   ]
  },
  {
   "cell_type": "code",
   "execution_count": 7,
   "metadata": {
    "run_control": {
     "frozen": false,
     "read_only": false
    }
   },
   "outputs": [
    {
     "data": {
      "text/html": [
       "<div>\n",
       "<table border=\"1\" class=\"dataframe\">\n",
       "  <thead>\n",
       "    <tr style=\"text-align: right;\">\n",
       "      <th></th>\n",
       "      <th>station</th>\n",
       "      <th>latitude</th>\n",
       "      <th>longitude</th>\n",
       "      <th>elevation</th>\n",
       "      <th>count(station)</th>\n",
       "      <th>avg(coeff_1)</th>\n",
       "    </tr>\n",
       "  </thead>\n",
       "  <tbody>\n",
       "    <tr>\n",
       "      <th>0</th>\n",
       "      <td>USC00020903</td>\n",
       "      <td>33.1500</td>\n",
       "      <td>-109.7833</td>\n",
       "      <td>1464.0</td>\n",
       "      <td>1</td>\n",
       "      <td>32.104435</td>\n",
       "    </tr>\n",
       "    <tr>\n",
       "      <th>22</th>\n",
       "      <td>USC00020923</td>\n",
       "      <td>32.5667</td>\n",
       "      <td>-110.2000</td>\n",
       "      <td>1464.0</td>\n",
       "      <td>4</td>\n",
       "      <td>8.683733</td>\n",
       "    </tr>\n",
       "  </tbody>\n",
       "</table>\n",
       "</div>"
      ],
      "text/plain": [
       "        station  latitude  longitude  elevation  count(station)  avg(coeff_1)\n",
       "0   USC00020903   33.1500  -109.7833     1464.0               1     32.104435\n",
       "22  USC00020923   32.5667  -110.2000     1464.0               4      8.683733"
      ]
     },
     "execution_count": 7,
     "metadata": {},
     "output_type": "execute_result"
    }
   ],
   "source": [
    "df2=df1.groupby(['station','latitude','longitude','elevation']).agg({\"station\": \"count\", feature: \"mean\"})\n",
    "pdf=df2.toPandas()\n",
    "pdf.sort_values(by=['station'],inplace=True)\n",
    "pdf.head(2)"
   ]
  },
  {
   "cell_type": "code",
   "execution_count": 8,
   "metadata": {
    "run_control": {
     "frozen": false,
     "read_only": false
    }
   },
   "outputs": [
    {
     "data": {
      "text/plain": [
       "u'#5dff9a'"
      ]
     },
     "execution_count": 8,
     "metadata": {},
     "output_type": "execute_result"
    }
   ],
   "source": [
    "#define a mapping from the range of the value to hex colors.\n",
    "from matplotlib.colors import rgb2hex\n",
    "_avg='avg(%s)'%feature\n",
    "_min=pdf[_avg].min()\n",
    "_max=pdf[_avg].max()\n",
    "_min,_max\n",
    "\n",
    "import pylab as plt\n",
    "cmap=plt.get_cmap('jet')\n",
    "def get_color(val):\n",
    "    x=(val-_min)/(_max-_min)\n",
    "    return(rgb2hex(cmap(x)[:3]))\n",
    "\n",
    "get_color(1000.)"
   ]
  },
  {
   "cell_type": "markdown",
   "metadata": {
    "run_control": {
     "frozen": false,
     "read_only": false
    }
   },
   "source": [
    "## Map"
   ]
  },
  {
   "cell_type": "code",
   "execution_count": 34,
   "metadata": {
    "run_control": {
     "frozen": false,
     "read_only": false
    }
   },
   "outputs": [],
   "source": [
    "min_lat,max_lat,min_long,max_long = box = (42.1103, 42.6167, -42.6, -40.8)\n"
   ]
  },
  {
   "cell_type": "code",
   "execution_count": 35,
   "metadata": {
    "run_control": {
     "frozen": false,
     "read_only": false
    }
   },
   "outputs": [
    {
     "data": {
      "application/vnd.jupyter.widget-view+json": {
       "model_id": "3fbfaa50a48549acacab4186c8cf0344"
      }
     },
     "metadata": {},
     "output_type": "display_data"
    }
   ],
   "source": [
    "center = [(min_lat+max_lat)/2, (min_long+max_long)/2]\n",
    "zoom = 9\n",
    "\n",
    "m = Map(default_tiles=TileLayer(opacity=1.0), center=center, zoom=zoom)\n",
    "\n",
    "r = Rectangle(bounds=[[min_lat,min_long],[max_lat,max_long]], weight=5, fill_opacity=0.0)\n",
    "m += r\n",
    "\n",
    "lat_margin=(max_lat-min_lat)/4\n",
    "long_margin=(max_long-min_long)/4\n",
    "circles = []\n",
    "for index,row in pdf.iterrows():\n",
    "    _lat=row['latitude']\n",
    "    _long=row['longitude']\n",
    "    _count=row['count(station)']\n",
    "    _coef=row[_avg]\n",
    "    # taking sqrt of count so that the  area of the circle corresponds to the count\n",
    "    c = Circle(location=(_lat,_long), radius=int(300*np.sqrt(_count+0.0)), weight=1,\n",
    "            color='#F00', opacity=0.8, fill_opacity=0.4,\n",
    "            fill_color=get_color(_coef))\n",
    "    circles.append(c)\n",
    "    m.add_layer(c)\n",
    "m    "
   ]
  },
  {
   "cell_type": "markdown",
   "metadata": {
    "run_control": {
     "frozen": false,
     "read_only": false
    }
   },
   "source": [
    "###### excercises:\n",
    "* Add a legend that relates the colors to values.\n",
    "* Leaflet supports a variety of maps. See if you can get a topographical map as the background."
   ]
  },
  {
   "cell_type": "code",
   "execution_count": 12,
   "metadata": {
    "run_control": {
     "frozen": false,
     "read_only": false
    }
   },
   "outputs": [
    {
     "data": {
      "image/png": "[encoded data removed]",
      "text/plain": [
       "<matplotlib.figure.Figure at 0x7f84d1dbee90>"
      ]
     },
     "metadata": {},
     "output_type": "display_data"
    }
   ],
   "source": [
    "%matplotlib inline\n",
    "pdf.plot.scatter(x='elevation',y='avg(coeff_1)');"
   ]
  },
  {
   "cell_type": "code",
   "execution_count": 13,
   "metadata": {},
   "outputs": [
    {
     "data": {
      "text/plain": [
       "['spark big  data analysis', 'spring', 'spark  basics']"
      ]
     },
     "execution_count": 13,
     "metadata": {},
     "output_type": "execute_result"
    }
   ],
   "source": [
    "RDD1=sc.parallelize([\"spark  basics\", \"spark big  data analysis\", \"spring\"]) \n",
    "RDD2=sc.parallelize([\"spark using pyspark\", \"big data\"])\n",
    " \n",
    "RDD1.subtract(RDD2).collect()"
   ]
  },
  {
   "cell_type": "code",
   "execution_count": null,
   "metadata": {
    "collapsed": true
   },
   "outputs": [],
   "source": []
  }
 ],
 "metadata": {
  "anaconda-cloud": {},
  "hide_input": false,
  "kernelspec": {
   "display_name": "Python 2",
   "language": "python",
   "name": "python2"
  },
  "language_info": {
   "codemirror_mode": {
    "name": "ipython",
    "version": 2
   },
   "file_extension": ".py",
   "mimetype": "text/x-python",
   "name": "python",
   "nbconvert_exporter": "python",
   "pygments_lexer": "ipython2",
   "version": "2.7.13"
  },
  "toc": {
   "colors": {
    "hover_highlight": "#DAA520",
    "running_highlight": "#FF0000",
    "selected_highlight": "#FFD700"
   },
   "moveMenuLeft": true,
   "nav_menu": {
    "height": "174px",
    "width": "252px"
   },
   "navigate_menu": true,
   "number_sections": true,
   "sideBar": true,
   "threshold": 4,
   "toc_cell": false,
   "toc_section_display": "block",
   "toc_window_display": false,
   "widenNotebook": false
  }
 },
 "nbformat": 4,
 "nbformat_minor": 1
}
