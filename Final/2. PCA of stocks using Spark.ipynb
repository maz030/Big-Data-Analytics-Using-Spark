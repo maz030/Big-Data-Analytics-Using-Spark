{
 "cells": [
  {
   "cell_type": "markdown",
   "metadata": {
    "deletable": true,
    "editable": true,
    "run_control": {
     "frozen": false,
     "read_only": false
    }
   },
   "source": [
    "## Analysis of stock prices using PCA / Notebook 2\n",
    "\n",
    "In this notebook you will read the file `SP500.csv` that you prepared in notebook 1 into a `Spark` dataframe and then use the code in `lib/spark_PCA.py` to perform PCA on the diff sequences.\n",
    "\n",
    "We start by starting a spark Context and reading the file into a dataframe."
   ]
  },
  {
   "cell_type": "code",
   "execution_count": 1,
   "metadata": {
    "collapsed": false,
    "deletable": true,
    "editable": true,
    "run_control": {
     "frozen": false,
     "read_only": false
    }
   },
   "outputs": [
    {
     "name": "stdout",
     "output_type": "stream",
     "text": [
      "Populating the interactive namespace from numpy and matplotlib\n"
     ]
    }
   ],
   "source": [
    "import findspark\n",
    "findspark.init()\n",
    "from pyspark import SparkContext\n",
    "\n",
    "#sc.stop()\n",
    "sc = SparkContext(master=\"local[6]\",pyFiles=['lib/spark_PCA.py'])\n",
    "\n",
    "from pyspark.sql import *\n",
    "sqlContext = SQLContext(sc)\n",
    "\n",
    "%pylab inline\n",
    "import sys\n",
    "sys.path.append('./lib')\n",
    "\n",
    "import numpy as np\n",
    "from spark_PCA import computeCov\n"
   ]
  },
  {
   "cell_type": "code",
   "execution_count": 2,
   "metadata": {
    "collapsed": false,
    "deletable": true,
    "editable": true,
    "run_control": {
     "frozen": false,
     "read_only": false
    }
   },
   "outputs": [
    {
     "data": {
      "text/plain": [
       "13422"
      ]
     },
     "execution_count": 2,
     "metadata": {},
     "output_type": "execute_result"
    }
   ],
   "source": [
    "# read the file in a dataframe.\n",
    "df=sqlContext.read.csv('SP500.csv',header='true',inferSchema='true')\n",
    "df.count()"
   ]
  },
  {
   "cell_type": "code",
   "execution_count": 3,
   "metadata": {
    "collapsed": false,
    "deletable": true,
    "editable": true,
    "run_control": {
     "frozen": false,
     "read_only": false
    }
   },
   "outputs": [],
   "source": [
    "columns=df.columns\n",
    "col=[c for c in columns if '_D' in c]"
   ]
  },
  {
   "cell_type": "markdown",
   "metadata": {
    "deletable": true,
    "editable": true,
    "run_control": {
     "frozen": false,
     "read_only": false
    }
   },
   "source": [
    "Extract the tickers from the column names of `df`"
   ]
  },
  {
   "cell_type": "code",
   "execution_count": 4,
   "metadata": {
    "collapsed": false,
    "deletable": true,
    "editable": true,
    "run_control": {
     "frozen": false,
     "read_only": false
    }
   },
   "outputs": [
    {
     "data": {
      "text/plain": [
       "(['AGN', 'EOG', 'WLP', 'CPB', 'YUM', 'JWN', 'FLS', 'TAP', 'BWA', 'AAPL'], 476)"
      ]
     },
     "execution_count": 4,
     "metadata": {},
     "output_type": "execute_result"
    }
   ],
   "source": [
    "\n",
    "# Add code to extract tickers here\n",
    "# tickers=[]\n",
    "tickers = [x[:-2] for x in col]\n",
    "tickers[:10],len(tickers)"
   ]
  },
  {
   "cell_type": "markdown",
   "metadata": {
    "deletable": true,
    "editable": true,
    "run_control": {
     "frozen": false,
     "read_only": false
    }
   },
   "source": [
    "#### Create an RDD of numpy arrays\n",
    "In order to use `spark_PCA.py` we need to transform the dataframe into an RDD of numpy vectors.\n",
    "\n",
    "Write a function `make_array(row)` that takes as input a row of `df` and returns a numpy array (`dtype=np.float64`) that contains the values of the diff rolumns (`_D`). Use `np.nan_to_num` to transform `nan`s into zeros.\n",
    "\n",
    "Use `map` to create an RDD called `Rows` of numpy arrays.\n"
   ]
  },
  {
   "cell_type": "code",
   "execution_count": 5,
   "metadata": {
    "collapsed": false,
    "deletable": true,
    "editable": true,
    "run_control": {
     "frozen": false,
     "read_only": false
    }
   },
   "outputs": [
    {
     "data": {
      "text/plain": [
       "array([ 0.        ,  0.        ,  0.        ,  0.        ,  0.        ,\n",
       "        0.        ,  0.        ,  0.        ,  0.        ,  0.        ,\n",
       "        0.        ,  0.        ,  0.        ,  0.        ,  0.        ,\n",
       "        0.        , -0.00830103,  0.        ,  0.        ,  0.        ])"
      ]
     },
     "execution_count": 5,
     "metadata": {},
     "output_type": "execute_result"
    }
   ],
   "source": [
    "def make_array(row):\n",
    "    # Complete function as described above\n",
    "    # return None\n",
    "    return np.nan_to_num(np.array(row, dtype=np.float64))\n",
    "Rows=df[col].rdd.map(lambda x: make_array(x)) ###-----FILL-IN using make_array-----\n",
    "\n",
    "Rows.first()[:20]"
   ]
  },
  {
   "cell_type": "code",
   "execution_count": 6,
   "metadata": {
    "collapsed": false,
    "deletable": true,
    "editable": true,
    "run_control": {
     "frozen": false,
     "read_only": false
    },
    "scrolled": false
   },
   "outputs": [
    {
     "name": "stdout",
     "output_type": "stream",
     "text": [
      "shape of E= (476,) shape of NE= (476,)\n"
     ]
    },
    {
     "data": {
      "text/plain": [
       "['E', 'Cov', 'NO', 'NE', 'O', 'Var', 'Mean']"
      ]
     },
     "execution_count": 6,
     "metadata": {},
     "output_type": "execute_result"
    }
   ],
   "source": [
    "# We are now ready to run ComputeCov to create the covariance matrix.\n",
    "OUT=computeCov(Rows)\n",
    "OUT.keys()"
   ]
  },
  {
   "cell_type": "code",
   "execution_count": 7,
   "metadata": {
    "collapsed": true,
    "deletable": true,
    "editable": true,
    "run_control": {
     "frozen": false,
     "read_only": false
    }
   },
   "outputs": [],
   "source": [
    "from numpy import linalg as LA\n",
    "eigval,eigvec=LA.eigh(OUT['Cov'])\n",
    "eigval=eigval[-1::-1] # reverse order\n",
    "eigvec=eigvec[:,-1::-1]"
   ]
  },
  {
   "cell_type": "markdown",
   "metadata": {
    "deletable": true,
    "editable": true,
    "run_control": {
     "frozen": false,
     "read_only": false
    }
   },
   "source": [
    "### Compute percentage-of-variance explained graph\n",
    "Write code to plot the percentage of variance explained as a function of the number of top eigen-vectors used.\n",
    "\n",
    "You should get a figure similar to this:\n",
    "\n",
    "![percent-var-explained](figs/percentageOfVarianceExplained.png)"
   ]
  },
  {
   "cell_type": "code",
   "execution_count": 8,
   "metadata": {
    "collapsed": false,
    "deletable": true,
    "editable": true,
    "run_control": {
     "frozen": false,
     "read_only": false
    }
   },
   "outputs": [
    {
     "data": {
      "image/png": "[encoded data removed]",
      "text/plain": [
       "<matplotlib.figure.Figure at 0x7f87f8ef5910>"
      ]
     },
     "metadata": {},
     "output_type": "display_data"
    }
   ],
   "source": [
    "# Add code to plot here\n",
    "plot((list(cumsum(eigval[:49])))/sum(eigval))\n",
    "grid()"
   ]
  },
  {
   "cell_type": "code",
   "execution_count": 9,
   "metadata": {
    "collapsed": false,
    "deletable": true,
    "editable": true,
    "run_control": {
     "frozen": false,
     "read_only": false
    },
    "scrolled": false
   },
   "outputs": [
    {
     "data": {
      "text/plain": [
       "[<matplotlib.lines.Line2D at 0x7f87f858d6d0>]"
      ]
     },
     "execution_count": 9,
     "metadata": {},
     "output_type": "execute_result"
    },
    {
     "data": {
      "image/png": "[encoded data removed]",
      "text/plain": [
       "<matplotlib.figure.Figure at 0x7f87f8650d50>"
      ]
     },
     "metadata": {},
     "output_type": "display_data"
    }
   ],
   "source": [
    "plot(eigvec[:,0])"
   ]
  },
  {
   "cell_type": "markdown",
   "metadata": {
    "deletable": true,
    "editable": true,
    "run_control": {
     "frozen": false,
     "read_only": false
    }
   },
   "source": [
    "### Checking your calculations\n",
    "One good way to check your calculations is to create a scatter-plot projecting the data on two of the largest variance eigen-vectors.\n",
    "\n",
    "In the directory `figs` you will find scatter plots corresponding to the six combinations of the top 4 eigenvectors.\n",
    "\n",
    "In these scatter-plots the ticker is replaced by the sector ID.\n",
    "\n",
    "Stocks from the same sector tend to have similar fluctuations. That is because they have similar sensitivities to costs (labor cost, energy) and profits (income distribution, holiday shopping). For example check out `figs/scatter.2.1.pdf` in which regions that are dominated by Finance, Energy or IT have been marked. \n",
    "\n",
    "It is not a requirement, but if you want to reassure yourself that you have done things right, we recommend that you create similar scatter plots and compare with those given. Your scatter-plots will be slightly different, because of the stocks you have eliminated, but spectral analysis is pretty robust, so your scatter plots should be quite similar (remember that the inverse of an eigen-vector is also an eigen-vector, so horizontal or vertical reflections of the scatter plot are meaningless)."
   ]
  },
  {
   "cell_type": "code",
   "execution_count": null,
   "metadata": {
    "collapsed": true,
    "deletable": true,
    "editable": true,
    "run_control": {
     "frozen": false,
     "read_only": false
    }
   },
   "outputs": [],
   "source": []
  },
  {
   "cell_type": "code",
   "execution_count": null,
   "metadata": {
    "collapsed": true
   },
   "outputs": [],
   "source": []
  },
  {
   "cell_type": "markdown",
   "metadata": {
    "deletable": true,
    "editable": true,
    "run_control": {
     "frozen": false,
     "read_only": false
    }
   },
   "source": [
    "### Performing K-NN on sectors.\n",
    "We can use spectral analysis to perform dimensionality reduction.\n",
    "\n",
    "We will use dimensionality reduction in the context of K-NN classification.\n",
    "\n",
    "Suppose that you the daily change sequence of a an unknown stock, and you want to know to which sector this stock belongs.\n",
    "\n",
    "We will do this in two steps:\n",
    "1. Project the daily change sequences of all stocks on the top $d$ eigenvectors to get a vector in $R^d$.\n",
    "2. Find the $k$ closest neighbors to the unknown stock, and find the plurality label (the plurality label is the one that appears the largest number of times amond the $k$ neighbors. As there are more than 2 labels, it is possible that the plurality label is not the majority.)"
   ]
  },
  {
   "cell_type": "code",
   "execution_count": 10,
   "metadata": {
    "collapsed": false,
    "deletable": true,
    "editable": true,
    "run_control": {
     "frozen": false,
     "read_only": false
    }
   },
   "outputs": [
    {
     "data": {
      "text/html": [
       "<div>\n",
       "<style>\n",
       "    .dataframe thead tr:only-child th {\n",
       "        text-align: right;\n",
       "    }\n",
       "\n",
       "    .dataframe thead th {\n",
       "        text-align: left;\n",
       "    }\n",
       "\n",
       "    .dataframe tbody tr th {\n",
       "        vertical-align: top;\n",
       "    }\n",
       "</style>\n",
       "<table border=\"1\" class=\"dataframe\">\n",
       "  <thead>\n",
       "    <tr style=\"text-align: right;\">\n",
       "      <th></th>\n",
       "      <th>Ticker</th>\n",
       "      <th>Name</th>\n",
       "      <th>Sector</th>\n",
       "      <th>SECTOR_ID</th>\n",
       "    </tr>\n",
       "  </thead>\n",
       "  <tbody>\n",
       "    <tr>\n",
       "      <th>41</th>\n",
       "      <td>APC</td>\n",
       "      <td>Anadarko Petroleum|Anadarko Petroleum Corp</td>\n",
       "      <td>Energy</td>\n",
       "      <td>EN</td>\n",
       "    </tr>\n",
       "    <tr>\n",
       "      <th>45</th>\n",
       "      <td>APA</td>\n",
       "      <td>Apache Corporation</td>\n",
       "      <td>Energy</td>\n",
       "      <td>EN</td>\n",
       "    </tr>\n",
       "    <tr>\n",
       "      <th>60</th>\n",
       "      <td>BHI</td>\n",
       "      <td>Baker Hughes Inc</td>\n",
       "      <td>Energy</td>\n",
       "      <td>EN</td>\n",
       "    </tr>\n",
       "    <tr>\n",
       "      <th>83</th>\n",
       "      <td>COG</td>\n",
       "      <td>Cabot Oil &amp; Gas</td>\n",
       "      <td>Energy</td>\n",
       "      <td>EN</td>\n",
       "    </tr>\n",
       "    <tr>\n",
       "      <th>101</th>\n",
       "      <td>CHK</td>\n",
       "      <td>Chesapeake Energy</td>\n",
       "      <td>Energy</td>\n",
       "      <td>EN</td>\n",
       "    </tr>\n",
       "    <tr>\n",
       "      <th>102</th>\n",
       "      <td>CVX</td>\n",
       "      <td>Chevron Corp.</td>\n",
       "      <td>Energy</td>\n",
       "      <td>EN</td>\n",
       "    </tr>\n",
       "    <tr>\n",
       "      <th>107</th>\n",
       "      <td>XEC</td>\n",
       "      <td>Cimarex Energy</td>\n",
       "      <td>Energy</td>\n",
       "      <td>EN</td>\n",
       "    </tr>\n",
       "    <tr>\n",
       "      <th>124</th>\n",
       "      <td>CXO</td>\n",
       "      <td>Concho Resources</td>\n",
       "      <td>Energy</td>\n",
       "      <td>EN</td>\n",
       "    </tr>\n",
       "    <tr>\n",
       "      <th>125</th>\n",
       "      <td>COP</td>\n",
       "      <td>ConocoPhillips</td>\n",
       "      <td>Energy</td>\n",
       "      <td>EN</td>\n",
       "    </tr>\n",
       "    <tr>\n",
       "      <th>145</th>\n",
       "      <td>DVN</td>\n",
       "      <td>Devon Energy</td>\n",
       "      <td>Energy</td>\n",
       "      <td>EN</td>\n",
       "    </tr>\n",
       "    <tr>\n",
       "      <th>172</th>\n",
       "      <td>EOG</td>\n",
       "      <td>EOG Resources</td>\n",
       "      <td>Energy</td>\n",
       "      <td>EN</td>\n",
       "    </tr>\n",
       "    <tr>\n",
       "      <th>173</th>\n",
       "      <td>EQT</td>\n",
       "      <td>EQT Corporation</td>\n",
       "      <td>Energy</td>\n",
       "      <td>EN</td>\n",
       "    </tr>\n",
       "    <tr>\n",
       "      <th>185</th>\n",
       "      <td>XOM</td>\n",
       "      <td>Exxon Mobil Corp.</td>\n",
       "      <td>Energy</td>\n",
       "      <td>EN</td>\n",
       "    </tr>\n",
       "    <tr>\n",
       "      <th>219</th>\n",
       "      <td>HAL</td>\n",
       "      <td>Halliburton Co.</td>\n",
       "      <td>Energy</td>\n",
       "      <td>EN</td>\n",
       "    </tr>\n",
       "    <tr>\n",
       "      <th>227</th>\n",
       "      <td>HP</td>\n",
       "      <td>Helmerich &amp; Payne</td>\n",
       "      <td>Energy</td>\n",
       "      <td>EN</td>\n",
       "    </tr>\n",
       "    <tr>\n",
       "      <th>230</th>\n",
       "      <td>HES</td>\n",
       "      <td>Hess Corporation</td>\n",
       "      <td>Energy</td>\n",
       "      <td>EN</td>\n",
       "    </tr>\n",
       "    <tr>\n",
       "      <th>268</th>\n",
       "      <td>KMI</td>\n",
       "      <td>Kinder Morgan</td>\n",
       "      <td>Energy</td>\n",
       "      <td>EN</td>\n",
       "    </tr>\n",
       "    <tr>\n",
       "      <th>292</th>\n",
       "      <td>MRO</td>\n",
       "      <td>Marathon Oil Corp.</td>\n",
       "      <td>Energy</td>\n",
       "      <td>EN</td>\n",
       "    </tr>\n",
       "    <tr>\n",
       "      <th>293</th>\n",
       "      <td>MPC</td>\n",
       "      <td>Marathon Petroleum</td>\n",
       "      <td>Energy</td>\n",
       "      <td>EN</td>\n",
       "    </tr>\n",
       "    <tr>\n",
       "      <th>322</th>\n",
       "      <td>MUR</td>\n",
       "      <td>Murphy Oil</td>\n",
       "      <td>Energy</td>\n",
       "      <td>EN</td>\n",
       "    </tr>\n",
       "    <tr>\n",
       "      <th>325</th>\n",
       "      <td>NOV</td>\n",
       "      <td>National Oilwell Varco Inc.</td>\n",
       "      <td>Energy</td>\n",
       "      <td>EN</td>\n",
       "    </tr>\n",
       "    <tr>\n",
       "      <th>330</th>\n",
       "      <td>NFX</td>\n",
       "      <td>Newfield Exploration Co</td>\n",
       "      <td>Energy</td>\n",
       "      <td>EN</td>\n",
       "    </tr>\n",
       "    <tr>\n",
       "      <th>338</th>\n",
       "      <td>NBL</td>\n",
       "      <td>Noble Energy Inc</td>\n",
       "      <td>Energy</td>\n",
       "      <td>EN</td>\n",
       "    </tr>\n",
       "    <tr>\n",
       "      <th>347</th>\n",
       "      <td>OXY</td>\n",
       "      <td>Occidental Petroleum</td>\n",
       "      <td>Energy</td>\n",
       "      <td>EN</td>\n",
       "    </tr>\n",
       "    <tr>\n",
       "      <th>349</th>\n",
       "      <td>OKE</td>\n",
       "      <td>ONEOK</td>\n",
       "      <td>Energy</td>\n",
       "      <td>EN</td>\n",
       "    </tr>\n",
       "    <tr>\n",
       "      <th>364</th>\n",
       "      <td>PSX</td>\n",
       "      <td>Phillips 66</td>\n",
       "      <td>Energy</td>\n",
       "      <td>EN</td>\n",
       "    </tr>\n",
       "    <tr>\n",
       "      <th>366</th>\n",
       "      <td>PXD</td>\n",
       "      <td>Pioneer Natural Resources</td>\n",
       "      <td>Energy</td>\n",
       "      <td>EN</td>\n",
       "    </tr>\n",
       "    <tr>\n",
       "      <th>386</th>\n",
       "      <td>RRC</td>\n",
       "      <td>Range Resources|Range Resources Corp.</td>\n",
       "      <td>Energy</td>\n",
       "      <td>EN</td>\n",
       "    </tr>\n",
       "    <tr>\n",
       "      <th>405</th>\n",
       "      <td>SLB</td>\n",
       "      <td>Schlumberger Ltd.</td>\n",
       "      <td>Energy</td>\n",
       "      <td>EN</td>\n",
       "    </tr>\n",
       "    <tr>\n",
       "      <th>433</th>\n",
       "      <td>FTI</td>\n",
       "      <td>TechnipFMC</td>\n",
       "      <td>Energy</td>\n",
       "      <td>EN</td>\n",
       "    </tr>\n",
       "    <tr>\n",
       "      <th>435</th>\n",
       "      <td>TSO</td>\n",
       "      <td>Tesoro Petroleum Co.</td>\n",
       "      <td>Energy</td>\n",
       "      <td>EN</td>\n",
       "    </tr>\n",
       "    <tr>\n",
       "      <th>446</th>\n",
       "      <td>RIG</td>\n",
       "      <td>Transocean</td>\n",
       "      <td>Energy</td>\n",
       "      <td>EN</td>\n",
       "    </tr>\n",
       "    <tr>\n",
       "      <th>466</th>\n",
       "      <td>VLO</td>\n",
       "      <td>Valero Energy</td>\n",
       "      <td>Energy</td>\n",
       "      <td>EN</td>\n",
       "    </tr>\n",
       "    <tr>\n",
       "      <th>491</th>\n",
       "      <td>WMB</td>\n",
       "      <td>Williams Cos.</td>\n",
       "      <td>Energy</td>\n",
       "      <td>EN</td>\n",
       "    </tr>\n",
       "  </tbody>\n",
       "</table>\n",
       "</div>"
      ],
      "text/plain": [
       "    Ticker                                        Name  Sector SECTOR_ID\n",
       "41     APC  Anadarko Petroleum|Anadarko Petroleum Corp  Energy        EN\n",
       "45     APA                          Apache Corporation  Energy        EN\n",
       "60     BHI                            Baker Hughes Inc  Energy        EN\n",
       "83     COG                             Cabot Oil & Gas  Energy        EN\n",
       "101    CHK                           Chesapeake Energy  Energy        EN\n",
       "102    CVX                               Chevron Corp.  Energy        EN\n",
       "107    XEC                              Cimarex Energy  Energy        EN\n",
       "124    CXO                            Concho Resources  Energy        EN\n",
       "125    COP                              ConocoPhillips  Energy        EN\n",
       "145    DVN                                Devon Energy  Energy        EN\n",
       "172    EOG                               EOG Resources  Energy        EN\n",
       "173    EQT                             EQT Corporation  Energy        EN\n",
       "185    XOM                           Exxon Mobil Corp.  Energy        EN\n",
       "219    HAL                             Halliburton Co.  Energy        EN\n",
       "227     HP                           Helmerich & Payne  Energy        EN\n",
       "230    HES                            Hess Corporation  Energy        EN\n",
       "268    KMI                               Kinder Morgan  Energy        EN\n",
       "292    MRO                          Marathon Oil Corp.  Energy        EN\n",
       "293    MPC                          Marathon Petroleum  Energy        EN\n",
       "322    MUR                                  Murphy Oil  Energy        EN\n",
       "325    NOV                 National Oilwell Varco Inc.  Energy        EN\n",
       "330    NFX                     Newfield Exploration Co  Energy        EN\n",
       "338    NBL                            Noble Energy Inc  Energy        EN\n",
       "347    OXY                        Occidental Petroleum  Energy        EN\n",
       "349    OKE                                       ONEOK  Energy        EN\n",
       "364    PSX                                 Phillips 66  Energy        EN\n",
       "366    PXD                   Pioneer Natural Resources  Energy        EN\n",
       "386    RRC       Range Resources|Range Resources Corp.  Energy        EN\n",
       "405    SLB                           Schlumberger Ltd.  Energy        EN\n",
       "433    FTI                                  TechnipFMC  Energy        EN\n",
       "435    TSO                        Tesoro Petroleum Co.  Energy        EN\n",
       "446    RIG                                  Transocean  Energy        EN\n",
       "466    VLO                               Valero Energy  Energy        EN\n",
       "491    WMB                               Williams Cos.  Energy        EN"
      ]
     },
     "execution_count": 10,
     "metadata": {},
     "output_type": "execute_result"
    }
   ],
   "source": [
    "import pickle\n",
    "D=pickle.load(open('Tickers.pkl','rb'))\n",
    "TickerInfo=D['TickerInfo']\n",
    "#tickers=D['Tickers']\n",
    "TickerInfo.head()\n",
    "\n",
    "# list all companies in the Energy sector\n",
    "TickerInfo[TickerInfo['SECTOR_ID']=='EN']"
   ]
  },
  {
   "cell_type": "markdown",
   "metadata": {
    "collapsed": false,
    "deletable": true,
    "editable": true,
    "run_control": {
     "frozen": false,
     "read_only": false
    }
   },
   "source": [
    "Write a function called `calc_sectors(tickers)` which takes as input a list of tickers and returns a list of the same length where each ticker is replaced by the corresponding `SECTOR_ID` if the ticker exists in the table `TickerInfo`. Otherwise, the sector is set equal to the ticker. "
   ]
  },
  {
   "cell_type": "code",
   "execution_count": 11,
   "metadata": {
    "collapsed": true,
    "deletable": true,
    "editable": true,
    "run_control": {
     "frozen": false,
     "read_only": false
    }
   },
   "outputs": [],
   "source": [
    "def calc_sectors(tickers):\n",
    "    # Your code here\n",
    "    sectors=[]\n",
    "    for t in tickers:\n",
    "        if t not in list(TickerInfo['Ticker']):\n",
    "            sectors.append(t);\n",
    "        else:\n",
    "            sectors.append(TickerInfo[TickerInfo['Ticker']==t].SECTOR_ID.item())\n",
    "    return sectors"
   ]
  },
  {
   "cell_type": "code",
   "execution_count": 12,
   "metadata": {
    "collapsed": false,
    "deletable": true,
    "editable": true,
    "run_control": {
     "frozen": false,
     "read_only": false
    }
   },
   "outputs": [],
   "source": [
    "# Create a dictionary that maps each ticker to the corresponding basis vector\n",
    "Tick_rep={}\n",
    "for i in range(len(tickers)):\n",
    "    Tick_rep[tickers[i]]=eigvec[i,:]"
   ]
  },
  {
   "cell_type": "code",
   "execution_count": 13,
   "metadata": {
    "collapsed": false,
    "deletable": true,
    "editable": true,
    "run_control": {
     "frozen": false,
     "read_only": false
    }
   },
   "outputs": [],
   "source": [
    "sectors = calc_sectors(tickers)"
   ]
  },
  {
   "cell_type": "code",
   "execution_count": 14,
   "metadata": {
    "collapsed": false
   },
   "outputs": [
    {
     "data": {
      "text/plain": [
       "476"
      ]
     },
     "execution_count": 14,
     "metadata": {},
     "output_type": "execute_result"
    }
   ],
   "source": [
    "len(sectors)"
   ]
  },
  {
   "cell_type": "markdown",
   "metadata": {
    "deletable": true,
    "editable": true,
    "run_control": {
     "frozen": false,
     "read_only": false
    }
   },
   "source": [
    "Write a function called `find_closest` which takes as input a query ticker, d and k. and returns a sorted list of tickers, their sectors, and their distance from the query ticker.\n",
    "\n",
    "For example:\n",
    "```python \n",
    "find_closest('HAL') \n",
    "```\n",
    "should return \n",
    "\n",
    "```\n",
    "[('HAL', 'EN', 0.0),\n",
    " ('SLB', 'EN', 0.0054474558470919412),\n",
    " ('APA', 'EN', 0.0095375619627422019),\n",
    " ('HP', 'EN', 0.0095667138343728166),\n",
    " ('BHI', 'EN', 0.01280991458941858),\n",
    " ('RDC', 'RDC', 0.012865326588403255),\n",
    " ('NBL', 'EN', 0.01654306862676054),\n",
    " ('APC', 'EN', 0.019824473381124783),\n",
    " ('COP', 'EN', 0.020783142716246431),\n",
    " ('ETR', 'UTIL', 0.021988972018102161),\n",
    " ('DO', 'DO', 0.022236500402408065)]\n",
    "```\n",
    "\n",
    "The distances you get are likely to be somewhat different because of the stocks you eliminated. \n",
    "But the majority of the neighbors should be in the energy category.\n",
    "\n",
    "Similarly you should get results similar to the following for bank of america:\n",
    "```python\n",
    "find_closest('BAC')\n",
    "```\n",
    "\n",
    "```\n",
    "[('BAC', 'FIN', 0.0),\n",
    " ('STI', 'FIN', 0.0024363061812645009),\n",
    " ('FITB', 'FIN', 0.0028848935859552022),\n",
    " ('HBAN', 'FIN', 0.0038872420319257242),\n",
    " ('RF', 'FIN', 0.0041060232900239878),\n",
    " ('EFX', 'INDS', 0.0041804481468865626),\n",
    " ('KEY', 'FIN', 0.0046723049368594853),\n",
    " ('WFC', 'FIN', 0.0050224290986012853),\n",
    " ('AIG', 'FIN', 0.0057982588328606656),\n",
    " ('ZION', 'FIN', 0.0060163395623237673)]\n",
    " ```\n",
    " \n",
    " Only tests below."
   ]
  },
  {
   "cell_type": "code",
   "execution_count": 15,
   "metadata": {
    "collapsed": false,
    "deletable": true,
    "editable": true,
    "run_control": {
     "frozen": false,
     "read_only": false
    },
    "scrolled": true
   },
   "outputs": [
    {
     "data": {
      "text/plain": [
       "[('BAC', 'FIN', 0.0),\n",
       " ('STI', 'FIN', 0.0023473286104719253),\n",
       " ('FITB', 'FIN', 0.0027788063098994971),\n",
       " ('HBAN', 'FIN', 0.0037743736793286009),\n",
       " ('C', 'FIN', 0.0039928191323608236),\n",
       " ('RF', 'FIN', 0.0041800492014480483),\n",
       " ('KEY', 'FIN', 0.0045641735830590406),\n",
       " ('WFC', 'FIN', 0.0051131266026018668),\n",
       " ('AIG', 'FIN', 0.005689718780791081),\n",
       " ('ZION', 'FIN', 0.0057209090342184941)]"
      ]
     },
     "execution_count": 15,
     "metadata": {},
     "output_type": "execute_result"
    }
   ],
   "source": [
    "d=20\n",
    "k=5\n",
    "T='HAL'\n",
    "def find_closest(T,d=10,k=10):\n",
    "    # Complete the find_closest\n",
    "    target = Tick_rep[T][:d]\n",
    "    ret = []\n",
    "    for i in range(len(tickers)):\n",
    "        norm = np.linalg.norm(Tick_rep[tickers[i]][:d] - target)**2 \n",
    "        ret.append((tickers[i], sectors[i], norm))\n",
    "    ret.sort(key=lambda x: x[2])\n",
    "    return ret[:k]\n",
    "    \n",
    "find_closest('BAC')"
   ]
  },
  {
   "cell_type": "code",
   "execution_count": null,
   "metadata": {
    "collapsed": true,
    "deletable": true,
    "editable": true,
    "run_control": {
     "frozen": false,
     "read_only": false
    }
   },
   "outputs": [],
   "source": []
  },
  {
   "cell_type": "markdown",
   "metadata": {
    "collapsed": true,
    "deletable": true,
    "editable": true,
    "run_control": {
     "frozen": false,
     "read_only": false
    }
   },
   "source": [
    "### Here are few stocks that have most neighbours in the same sector\n",
    "\n",
    "```\n",
    "Ticker     Sector\n",
    "BAC         FIN\n",
    "BAX         HC\n",
    "EQR         RE\n",
    "HOG         CD\n",
    "HCP         RE\n",
    "HAL         EN\n",
    "SYK         HC\n",
    "```"
   ]
  },
  {
   "cell_type": "code",
   "execution_count": null,
   "metadata": {
    "collapsed": true,
    "deletable": true,
    "editable": true,
    "run_control": {
     "frozen": false,
     "read_only": false
    }
   },
   "outputs": [],
   "source": []
  },
  {
   "cell_type": "markdown",
   "metadata": {
    "deletable": true,
    "editable": true,
    "run_control": {
     "frozen": false,
     "read_only": false
    }
   },
   "source": [
    "# Please do not modify or delete the following cells. They are required for the autograder. If deleted your final might not be graded. "
   ]
  },
  {
   "cell_type": "code",
   "execution_count": 16,
   "metadata": {
    "collapsed": false,
    "deletable": false,
    "editable": false,
    "nbgrader": {
     "checksum": "032574abc376d083cdb822592d1dbab7",
     "grade": true,
     "grade_id": "t0",
     "locked": true,
     "points": 1,
     "schema_version": 1,
     "solution": false
    },
    "run_control": {
     "frozen": false,
     "read_only": false
    }
   },
   "outputs": [
    {
     "ename": "AttributeError",
     "evalue": "'module' object has no attribute 'test0'",
     "output_type": "error",
     "traceback": [
      "\u001b[0;31m---------------------------------------------------------------------------\u001b[0m",
      "\u001b[0;31mAttributeError\u001b[0m                            Traceback (most recent call last)",
      "\u001b[0;32m<ipython-input-16-4783ba211d27>\u001b[0m in \u001b[0;36m<module>\u001b[0;34m()\u001b[0m\n\u001b[1;32m      1\u001b[0m \u001b[0;32mimport\u001b[0m \u001b[0mTester\u001b[0m\u001b[0;34m\u001b[0m\u001b[0m\n\u001b[0;32m----> 2\u001b[0;31m \u001b[0mTester\u001b[0m\u001b[0;34m.\u001b[0m\u001b[0mtest0\u001b[0m\u001b[0;34m(\u001b[0m\u001b[0mtickers\u001b[0m\u001b[0;34m)\u001b[0m\u001b[0;34m\u001b[0m\u001b[0m\n\u001b[0m",
      "\u001b[0;31mAttributeError\u001b[0m: 'module' object has no attribute 'test0'"
     ]
    }
   ],
   "source": [
    "import Tester\n",
    "Tester.test0(tickers)"
   ]
  },
  {
   "cell_type": "code",
   "execution_count": null,
   "metadata": {
    "collapsed": true,
    "deletable": false,
    "editable": false,
    "nbgrader": {
     "checksum": "38d8efccde1388b299a5c0efe1bbf0ea",
     "grade": true,
     "grade_id": "t1",
     "locked": true,
     "points": 1,
     "schema_version": 1,
     "solution": false
    },
    "run_control": {
     "frozen": false,
     "read_only": false
    }
   },
   "outputs": [],
   "source": [
    "import Tester\n",
    "Tester.test1(eigval,eigvec)"
   ]
  },
  {
   "cell_type": "code",
   "execution_count": null,
   "metadata": {
    "collapsed": true,
    "deletable": false,
    "editable": false,
    "nbgrader": {
     "checksum": "4f57d6e25cbec8f641c3cb27a48ef301",
     "grade": true,
     "grade_id": "t2",
     "locked": true,
     "points": 1,
     "schema_version": 1,
     "solution": false
    },
    "run_control": {
     "frozen": false,
     "read_only": false
    }
   },
   "outputs": [],
   "source": [
    "import Tester\n",
    "Tester.test2(eigval,eigvec)"
   ]
  },
  {
   "cell_type": "code",
   "execution_count": null,
   "metadata": {
    "collapsed": true,
    "deletable": false,
    "editable": false,
    "nbgrader": {
     "checksum": "277ae45972d41a36ed63b12d923222d4",
     "grade": true,
     "grade_id": "t3",
     "locked": true,
     "points": 1,
     "schema_version": 1,
     "solution": false
    },
    "run_control": {
     "frozen": false,
     "read_only": false
    }
   },
   "outputs": [],
   "source": [
    "import Tester\n",
    "Tester.test3(eigval,eigvec)"
   ]
  },
  {
   "cell_type": "code",
   "execution_count": null,
   "metadata": {
    "collapsed": true,
    "deletable": false,
    "editable": false,
    "nbgrader": {
     "checksum": "eb74e3f065cff9dc96116d1498d65fef",
     "grade": true,
     "grade_id": "t4",
     "locked": true,
     "points": 1,
     "schema_version": 1,
     "solution": false
    },
    "run_control": {
     "frozen": false,
     "read_only": false
    }
   },
   "outputs": [],
   "source": [
    "import Tester\n",
    "Tester.test4(eigval,eigvec)"
   ]
  },
  {
   "cell_type": "code",
   "execution_count": null,
   "metadata": {
    "collapsed": true,
    "deletable": false,
    "editable": false,
    "nbgrader": {
     "checksum": "c5732c05b651bbfc86366c33b4891b5c",
     "grade": true,
     "grade_id": "t5",
     "locked": true,
     "points": 1,
     "schema_version": 1,
     "solution": false
    },
    "run_control": {
     "frozen": false,
     "read_only": false
    }
   },
   "outputs": [],
   "source": [
    "import Tester\n",
    "Tester.test5(find_closest)"
   ]
  },
  {
   "cell_type": "code",
   "execution_count": null,
   "metadata": {
    "collapsed": true,
    "deletable": false,
    "editable": false,
    "nbgrader": {
     "checksum": "615e4e4f91a3d6c1f37dd3764196bfca",
     "grade": true,
     "grade_id": "t6",
     "locked": true,
     "points": 1,
     "schema_version": 1,
     "solution": false
    },
    "run_control": {
     "frozen": false,
     "read_only": false
    }
   },
   "outputs": [],
   "source": [
    "import Tester\n",
    "Tester.test6(find_closest)"
   ]
  },
  {
   "cell_type": "code",
   "execution_count": null,
   "metadata": {
    "collapsed": true,
    "deletable": false,
    "editable": false,
    "nbgrader": {
     "checksum": "93b06c73c2f4630f68d43780f1c6c599",
     "grade": true,
     "grade_id": "t7",
     "locked": true,
     "points": 1,
     "schema_version": 1,
     "solution": false
    },
    "run_control": {
     "frozen": false,
     "read_only": false
    }
   },
   "outputs": [],
   "source": [
    "import Tester\n",
    "Tester.test7(find_closest)"
   ]
  },
  {
   "cell_type": "code",
   "execution_count": null,
   "metadata": {
    "collapsed": true,
    "deletable": false,
    "editable": false,
    "nbgrader": {
     "checksum": "30d308fc8875493d6a90a3f14d0e3dc3",
     "grade": true,
     "grade_id": "t8",
     "locked": true,
     "points": 1,
     "schema_version": 1,
     "solution": false
    },
    "run_control": {
     "frozen": false,
     "read_only": false
    }
   },
   "outputs": [],
   "source": [
    "import Tester\n",
    "Tester.test8(find_closest)"
   ]
  },
  {
   "cell_type": "code",
   "execution_count": null,
   "metadata": {
    "collapsed": true,
    "deletable": false,
    "editable": false,
    "nbgrader": {
     "checksum": "99faebd05d0ac3619533643acde4b1b1",
     "grade": true,
     "grade_id": "t9",
     "locked": true,
     "points": 1,
     "schema_version": 1,
     "solution": false
    },
    "run_control": {
     "frozen": false,
     "read_only": false
    }
   },
   "outputs": [],
   "source": [
    "import Tester\n",
    "Tester.test9(find_closest)"
   ]
  },
  {
   "cell_type": "code",
   "execution_count": null,
   "metadata": {
    "collapsed": true,
    "deletable": false,
    "editable": false,
    "nbgrader": {
     "checksum": "2177583e5734b2ecfae7e4eb001ffae3",
     "grade": true,
     "grade_id": "t10",
     "locked": true,
     "points": 1,
     "schema_version": 1,
     "solution": false
    },
    "run_control": {
     "frozen": false,
     "read_only": false
    }
   },
   "outputs": [],
   "source": [
    "import Tester\n",
    "Tester.test10(find_closest)"
   ]
  },
  {
   "cell_type": "code",
   "execution_count": null,
   "metadata": {
    "collapsed": true,
    "deletable": false,
    "editable": false,
    "nbgrader": {
     "checksum": "bb6fe8b75f5a83ac05e3c430d9bb48ca",
     "grade": true,
     "grade_id": "t11",
     "locked": true,
     "points": 1,
     "schema_version": 1,
     "solution": false
    },
    "run_control": {
     "frozen": false,
     "read_only": false
    }
   },
   "outputs": [],
   "source": [
    "import Tester\n",
    "Tester.test11(find_closest)"
   ]
  },
  {
   "cell_type": "code",
   "execution_count": null,
   "metadata": {
    "collapsed": true,
    "deletable": false,
    "editable": false,
    "nbgrader": {
     "checksum": "4b1695bf6dfa88336c01265805ebc464",
     "grade": true,
     "grade_id": "t12",
     "locked": true,
     "points": 1,
     "schema_version": 1,
     "solution": false
    },
    "run_control": {
     "frozen": false,
     "read_only": false
    }
   },
   "outputs": [],
   "source": [
    "import Tester\n",
    "Tester.test12(find_closest)"
   ]
  },
  {
   "cell_type": "code",
   "execution_count": null,
   "metadata": {
    "collapsed": true,
    "deletable": false,
    "editable": false,
    "nbgrader": {
     "checksum": "646d622af26c1af59eae9f6cbd34b79c",
     "grade": true,
     "grade_id": "t13",
     "locked": true,
     "points": 1,
     "schema_version": 1,
     "solution": false
    },
    "run_control": {
     "frozen": false,
     "read_only": false
    }
   },
   "outputs": [],
   "source": [
    "import Tester\n",
    "Tester.test13(find_closest)"
   ]
  },
  {
   "cell_type": "code",
   "execution_count": null,
   "metadata": {
    "collapsed": true,
    "deletable": false,
    "editable": false,
    "nbgrader": {
     "checksum": "53f39a84c5f7d41f7fb335f12ce3d17f",
     "grade": true,
     "grade_id": "t14",
     "locked": true,
     "points": 1,
     "schema_version": 1,
     "solution": false
    },
    "run_control": {
     "frozen": false,
     "read_only": false
    }
   },
   "outputs": [],
   "source": [
    "import Tester\n",
    "Tester.test14(find_closest)"
   ]
  },
  {
   "cell_type": "code",
   "execution_count": null,
   "metadata": {
    "collapsed": true,
    "deletable": true,
    "editable": true,
    "run_control": {
     "frozen": false,
     "read_only": false
    }
   },
   "outputs": [],
   "source": []
  }
 ],
 "metadata": {
  "anaconda-cloud": {},
  "kernelspec": {
   "display_name": "Python 2",
   "language": "python",
   "name": "python2"
  },
  "language_info": {
   "codemirror_mode": {
    "name": "ipython",
    "version": 2
   },
   "file_extension": ".py",
   "mimetype": "text/x-python",
   "name": "python",
   "nbconvert_exporter": "python",
   "pygments_lexer": "ipython2",
   "version": "2.7.13"
  },
  "toc": {
   "colors": {
    "hover_highlight": "#DAA520",
    "running_highlight": "#FF0000",
    "selected_highlight": "#FFD700"
   },
   "moveMenuLeft": true,
   "nav_menu": {
    "height": "12px",
    "width": "252px"
   },
   "navigate_menu": true,
   "number_sections": true,
   "sideBar": true,
   "threshold": 4,
   "toc_cell": false,
   "toc_section_display": "block",
   "toc_window_display": false,
   "widenNotebook": false
  }
 },
 "nbformat": 4,
 "nbformat_minor": 2
}
